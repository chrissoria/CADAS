{
 "cells": [
  {
   "cell_type": "code",
   "execution_count": 1,
   "id": "94064f73",
   "metadata": {},
   "outputs": [],
   "source": [
    "import pandas as pd\n",
    "import numpy as np\n",
    "import catllm as cat\n",
    "import json\n",
    "import os\n",
    "import regex\n",
    "import glob\n",
    "import time\n",
    "from dotenv import load_dotenv, find_dotenv\n",
    "from pathlib import Path"
   ]
  },
  {
   "cell_type": "code",
   "execution_count": 2,
   "id": "b3ebf88c",
   "metadata": {},
   "outputs": [],
   "source": [
    "os.chdir('/Users/chrissoria/Documents/Research/Categorization_AI_experiments')\n",
    "current_directory = os.getcwd()\n",
    "\n",
    "dotenv_path = Path('/Users/chrissoria/Documents/Research/Categorization_AI_experiments/.env')\n",
    "pictures_path = \"/Users/chrissoria/Google Drive/other computers/My Laptop (1)/documents/cadas/data/CADAS data upload/Puerto_Rico/All_Image_Files\"\n",
    "latest_cog_path = \"/Users/chrissoria/Google Drive/other computers/My Laptop (1)/documents/cadas/Data/CADAS data upload/Puerto_Rico/Sync_files/2025_05_30/EXCEL/cognitive.xlsx\"\n",
    "save_path = \"/Users/chrissoria/Google Drive/other computers/My Laptop (1)/documents/cadas/data/CADAS data upload/Puerto_Rico/Figures/AI_Scores\"\n",
    "\n",
    "load_dotenv(dotenv_path=dotenv_path)\n",
    "\n",
    "open_ai_key = os.environ.get(\"OPENAI_API_KEY\")"
   ]
  },
  {
   "cell_type": "markdown",
   "id": "4986826e",
   "metadata": {},
   "source": [
    "read in Puerto Rico data"
   ]
  },
  {
   "cell_type": "code",
   "execution_count": 3,
   "id": "ee9eeb32",
   "metadata": {},
   "outputs": [
    {
     "name": "stdout",
     "output_type": "stream",
     "text": [
      "The number of rows in the Puerto Rico cognitive data before dropping non-resumen matches is: 372\n",
      "The number of rows in the Puerto Rico cognitive data after dropping non-resumen matches is: 203\n"
     ]
    },
    {
     "data": {
      "text/html": [
       "<div>\n",
       "<style scoped>\n",
       "    .dataframe tbody tr th:only-of-type {\n",
       "        vertical-align: middle;\n",
       "    }\n",
       "\n",
       "    .dataframe tbody tr th {\n",
       "        vertical-align: top;\n",
       "    }\n",
       "\n",
       "    .dataframe thead th {\n",
       "        text-align: right;\n",
       "    }\n",
       "</style>\n",
       "<table border=\"1\" class=\"dataframe\">\n",
       "  <thead>\n",
       "    <tr style=\"text-align: right;\">\n",
       "      <th></th>\n",
       "      <th>pid_parent</th>\n",
       "      <th>pid</th>\n",
       "      <th>resumen</th>\n",
       "      <th>pid_nonmatch</th>\n",
       "      <th>globalrecordid</th>\n",
       "      <th>hhid</th>\n",
       "      <th>fkey</th>\n",
       "      <th>c_parent_houseid</th>\n",
       "      <th>c_parent_clustid</th>\n",
       "      <th>c_parent_particid</th>\n",
       "      <th>...</th>\n",
       "      <th>date_greater_102423</th>\n",
       "      <th>c_countmissing</th>\n",
       "      <th>c_last</th>\n",
       "      <th>c_ThreeWordDelay</th>\n",
       "      <th>c_TenWordDelay</th>\n",
       "      <th>c_TenWordRecognition</th>\n",
       "      <th>c_Story1Delay</th>\n",
       "      <th>c_Story2Delay</th>\n",
       "      <th>c_FigureDelay</th>\n",
       "      <th>c_TotalTime</th>\n",
       "    </tr>\n",
       "  </thead>\n",
       "  <tbody>\n",
       "    <tr>\n",
       "      <th>0</th>\n",
       "      <td>00100101</td>\n",
       "      <td>100101</td>\n",
       "      <td>Found in Resumen</td>\n",
       "      <td>NaN</td>\n",
       "      <td>d6695ddc-846c-4ceb-a35e-c83c42cd76f1</td>\n",
       "      <td>1001</td>\n",
       "      <td>b3e344d0-5b45-47b8-9308-23e2b4f33f45</td>\n",
       "      <td>1.0</td>\n",
       "      <td>1.0</td>\n",
       "      <td>1.0</td>\n",
       "      <td>...</td>\n",
       "      <td>1</td>\n",
       "      <td>38</td>\n",
       "      <td>pent_pic_cropped</td>\n",
       "      <td>NaN</td>\n",
       "      <td>NaN</td>\n",
       "      <td>NaN</td>\n",
       "      <td>NaN</td>\n",
       "      <td>NaN</td>\n",
       "      <td>NaN</td>\n",
       "      <td>NaN</td>\n",
       "    </tr>\n",
       "    <tr>\n",
       "      <th>1</th>\n",
       "      <td>00.00.0.</td>\n",
       "      <td>100101</td>\n",
       "      <td>Found in Resumen</td>\n",
       "      <td>NaN</td>\n",
       "      <td>26cc442c-7bf0-4790-80a1-ba315ac8c5c2</td>\n",
       "      <td>1001</td>\n",
       "      <td>a03580ab-4742-499a-98b2-fb517db7c217</td>\n",
       "      <td>NaN</td>\n",
       "      <td>NaN</td>\n",
       "      <td>NaN</td>\n",
       "      <td>...</td>\n",
       "      <td>1</td>\n",
       "      <td>9</td>\n",
       "      <td>pent_pic_cropped</td>\n",
       "      <td>NaN</td>\n",
       "      <td>NaN</td>\n",
       "      <td>NaN</td>\n",
       "      <td>NaN</td>\n",
       "      <td>NaN</td>\n",
       "      <td>NaN</td>\n",
       "      <td>NaN</td>\n",
       "    </tr>\n",
       "    <tr>\n",
       "      <th>2</th>\n",
       "      <td>00100101</td>\n",
       "      <td>100101</td>\n",
       "      <td>Found in Resumen</td>\n",
       "      <td>NaN</td>\n",
       "      <td>43a6c5fe-d5c9-4c2a-a0a1-974bb77821f9</td>\n",
       "      <td>1001</td>\n",
       "      <td>b07cb4f9-0d36-409a-b7d6-00a472ab1b7c</td>\n",
       "      <td>1.0</td>\n",
       "      <td>1.0</td>\n",
       "      <td>1.0</td>\n",
       "      <td>...</td>\n",
       "      <td>1</td>\n",
       "      <td>170</td>\n",
       "      <td>pent_pic_cropped</td>\n",
       "      <td>NaN</td>\n",
       "      <td>NaN</td>\n",
       "      <td>NaN</td>\n",
       "      <td>NaN</td>\n",
       "      <td>NaN</td>\n",
       "      <td>NaN</td>\n",
       "      <td>NaN</td>\n",
       "    </tr>\n",
       "    <tr>\n",
       "      <th>3</th>\n",
       "      <td>00100101</td>\n",
       "      <td>100101</td>\n",
       "      <td>Found in Resumen</td>\n",
       "      <td>NaN</td>\n",
       "      <td>18defbe6-f574-45e5-aab4-a2810aaeee15</td>\n",
       "      <td>1001</td>\n",
       "      <td>eb4f5349-93ae-40f2-96f3-e1f75d465647</td>\n",
       "      <td>1.0</td>\n",
       "      <td>1.0</td>\n",
       "      <td>1.0</td>\n",
       "      <td>...</td>\n",
       "      <td>1</td>\n",
       "      <td>5</td>\n",
       "      <td>pent_pic_cropped</td>\n",
       "      <td>2.0</td>\n",
       "      <td>12.0</td>\n",
       "      <td>17.0</td>\n",
       "      <td>10.0</td>\n",
       "      <td>10.0</td>\n",
       "      <td>6.0</td>\n",
       "      <td>44.0</td>\n",
       "    </tr>\n",
       "    <tr>\n",
       "      <th>4</th>\n",
       "      <td>00100101</td>\n",
       "      <td>100101</td>\n",
       "      <td>Found in Resumen</td>\n",
       "      <td>NaN</td>\n",
       "      <td>6fd62269-18f2-4ccc-a03a-54515f710efd</td>\n",
       "      <td>1001</td>\n",
       "      <td>608cca02-3db1-479c-8ec9-255d78934600</td>\n",
       "      <td>1.0</td>\n",
       "      <td>1.0</td>\n",
       "      <td>1.0</td>\n",
       "      <td>...</td>\n",
       "      <td>1</td>\n",
       "      <td>92</td>\n",
       "      <td>pent_pic_cropped</td>\n",
       "      <td>1.0</td>\n",
       "      <td>6.0</td>\n",
       "      <td>9.0</td>\n",
       "      <td>5.0</td>\n",
       "      <td>5.0</td>\n",
       "      <td>NaN</td>\n",
       "      <td>NaN</td>\n",
       "    </tr>\n",
       "  </tbody>\n",
       "</table>\n",
       "<p>5 rows × 305 columns</p>\n",
       "</div>"
      ],
      "text/plain": [
       "  pid_parent     pid           resumen  pid_nonmatch  \\\n",
       "0   00100101  100101  Found in Resumen           NaN   \n",
       "1   00.00.0.  100101  Found in Resumen           NaN   \n",
       "2   00100101  100101  Found in Resumen           NaN   \n",
       "3   00100101  100101  Found in Resumen           NaN   \n",
       "4   00100101  100101  Found in Resumen           NaN   \n",
       "\n",
       "                         globalrecordid  hhid  \\\n",
       "0  d6695ddc-846c-4ceb-a35e-c83c42cd76f1  1001   \n",
       "1  26cc442c-7bf0-4790-80a1-ba315ac8c5c2  1001   \n",
       "2  43a6c5fe-d5c9-4c2a-a0a1-974bb77821f9  1001   \n",
       "3  18defbe6-f574-45e5-aab4-a2810aaeee15  1001   \n",
       "4  6fd62269-18f2-4ccc-a03a-54515f710efd  1001   \n",
       "\n",
       "                                   fkey  c_parent_houseid  c_parent_clustid  \\\n",
       "0  b3e344d0-5b45-47b8-9308-23e2b4f33f45               1.0               1.0   \n",
       "1  a03580ab-4742-499a-98b2-fb517db7c217               NaN               NaN   \n",
       "2  b07cb4f9-0d36-409a-b7d6-00a472ab1b7c               1.0               1.0   \n",
       "3  eb4f5349-93ae-40f2-96f3-e1f75d465647               1.0               1.0   \n",
       "4  608cca02-3db1-479c-8ec9-255d78934600               1.0               1.0   \n",
       "\n",
       "   c_parent_particid  ...  date_greater_102423  c_countmissing  \\\n",
       "0                1.0  ...                    1              38   \n",
       "1                NaN  ...                    1               9   \n",
       "2                1.0  ...                    1             170   \n",
       "3                1.0  ...                    1               5   \n",
       "4                1.0  ...                    1              92   \n",
       "\n",
       "             c_last  c_ThreeWordDelay c_TenWordDelay  c_TenWordRecognition  \\\n",
       "0  pent_pic_cropped               NaN            NaN                   NaN   \n",
       "1  pent_pic_cropped               NaN            NaN                   NaN   \n",
       "2  pent_pic_cropped               NaN            NaN                   NaN   \n",
       "3  pent_pic_cropped               2.0           12.0                  17.0   \n",
       "4  pent_pic_cropped               1.0            6.0                   9.0   \n",
       "\n",
       "   c_Story1Delay  c_Story2Delay c_FigureDelay  c_TotalTime  \n",
       "0            NaN            NaN           NaN          NaN  \n",
       "1            NaN            NaN           NaN          NaN  \n",
       "2            NaN            NaN           NaN          NaN  \n",
       "3           10.0           10.0           6.0         44.0  \n",
       "4            5.0            5.0           NaN          NaN  \n",
       "\n",
       "[5 rows x 305 columns]"
      ]
     },
     "execution_count": 3,
     "metadata": {},
     "output_type": "execute_result"
    }
   ],
   "source": [
    "pr_cog = pd.read_excel(latest_cog_path)\n",
    "print(f\"The number of rows in the Puerto Rico cognitive data before dropping non-resumen matches is: {len(pr_cog)}\")\n",
    "pr_cog = pr_cog[pr_cog['resumen'] == \"Found in Resumen\"].reset_index(drop=True)\n",
    "print(f\"The number of rows in the Puerto Rico cognitive data after dropping non-resumen matches is: {len(pr_cog)}\")\n",
    "pr_cog.head()"
   ]
  },
  {
   "cell_type": "markdown",
   "id": "3a705c8a",
   "metadata": {},
   "source": [
    "defining the function that will process the pictures columns"
   ]
  },
  {
   "cell_type": "code",
   "execution_count": 4,
   "id": "8126e4d5",
   "metadata": {},
   "outputs": [
    {
     "data": {
      "text/plain": [
       "0    /Users/chrissoria/Google Drive/other computers...\n",
       "1    /Users/chrissoria/Google Drive/other computers...\n",
       "2    /Users/chrissoria/Google Drive/other computers...\n",
       "3    /Users/chrissoria/Google Drive/other computers...\n",
       "4    /Users/chrissoria/Google Drive/other computers...\n",
       "Name: c_72_1_pic_path, dtype: object"
      ]
     },
     "execution_count": 4,
     "metadata": {},
     "output_type": "execute_result"
    }
   ],
   "source": [
    "def process_pic_column(df, pic_col, pictures_path):\n",
    "    pic_col = pic_col.lower()\n",
    "    processed_pics = df[pic_col].apply(lambda x: str(x) if str(x).endswith('.jpg') else str(x) + '.jpg' if not pd.isna(x) else '')\n",
    "    return pictures_path + '/' + processed_pics\n",
    "\n",
    "#defining the pictures columns\n",
    "pic_columns = ['c_72_1_pic', 'c_72_2_pic', 'c_72_3_pic', 'c_72_4_pic', 'c_79_1_pic', 'c_79_2_pic', 'c_79_3_pic', 'c_79_4_pic']\n",
    "\n",
    "# process each picture column\n",
    "for pic_col in pic_columns:\n",
    "    pr_cog[f'{pic_col}_path'] = process_pic_column(pr_cog, pic_col, pictures_path)\n",
    "\n",
    "pr_cog['c_72_1_pic_path'].head()"
   ]
  },
  {
   "cell_type": "code",
   "execution_count": null,
   "id": "9ba756f5",
   "metadata": {},
   "outputs": [
    {
     "name": "stdout",
     "output_type": "stream",
     "text": [
      "Provided a list of 203 images.\n"
     ]
    },
    {
     "name": "stderr",
     "output_type": "stream",
     "text": [
      "Categorising images: 100%|██████████| 203/203 [05:37<00:00,  1.67s/it]"
     ]
    },
    {
     "name": "stdout",
     "output_type": "stream",
     "text": [
      "An error occurred: <html>\n",
      "<head><title>400 Bad Request</title></head>\n",
      "<body>\n",
      "<center><h1>400 Bad Request</h1></center>\n",
      "<hr><center>nginx</center>\n",
      "</body>\n",
      "</html>\n"
     ]
    },
    {
     "name": "stderr",
     "output_type": "stream",
     "text": [
      "\n"
     ]
    }
   ],
   "source": [
    "pr_c_79_1 = cat.cerad_score(\n",
    "    shape=\"circle\",\n",
    "    image_input=pr_cog['c_79_1_pic_path'].tolist(),\n",
    "    api_key=open_ai_key,\n",
    "    safety=True,\n",
    "    filename=f\"{save_path}/c_79_1_machine_score_full.csv\",\n",
    ")"
   ]
  },
  {
   "cell_type": "code",
   "execution_count": null,
   "id": "416c6a91",
   "metadata": {},
   "outputs": [
    {
     "name": "stdout",
     "output_type": "stream",
     "text": [
      "Provided a list of 203 images.\n"
     ]
    },
    {
     "name": "stderr",
     "output_type": "stream",
     "text": [
      "Categorising images: 100%|██████████| 203/203 [03:50<00:00,  1.14s/it]\n"
     ]
    }
   ],
   "source": [
    "pr_c_79_2 = cat.cerad_score(\n",
    "    shape=\"diamond\",\n",
    "    image_input=pr_cog['c_79_2_pic_path'].tolist(),\n",
    "    api_key=open_ai_key,\n",
    "    safety=True,\n",
    "    filename=f\"{save_path}/c_79_2_machine_score_full.csv\",\n",
    ")"
   ]
  },
  {
   "cell_type": "code",
   "execution_count": null,
   "id": "fb1b2d91",
   "metadata": {},
   "outputs": [
    {
     "name": "stdout",
     "output_type": "stream",
     "text": [
      "Provided a list of 203 images.\n"
     ]
    },
    {
     "name": "stderr",
     "output_type": "stream",
     "text": [
      "Categorising images: 100%|██████████| 203/203 [04:48<00:00,  1.42s/it]\n"
     ]
    }
   ],
   "source": [
    "pr_c_79_3 = cat.cerad_score(\n",
    "    shape=\"rectangles\",\n",
    "    image_input=pr_cog['c_79_3_pic_path'].tolist(),\n",
    "    api_key=open_ai_key,\n",
    "    safety=True,\n",
    "    filename=f\"{save_path}/c_79_3_machine_score_full.csv\",\n",
    ")"
   ]
  },
  {
   "cell_type": "code",
   "execution_count": 7,
   "id": "0860b705",
   "metadata": {},
   "outputs": [
    {
     "name": "stdout",
     "output_type": "stream",
     "text": [
      "Provided a list of 203 images.\n"
     ]
    },
    {
     "name": "stderr",
     "output_type": "stream",
     "text": [
      "Categorising images: 100%|██████████| 203/203 [08:27<00:00,  2.50s/it]\n"
     ]
    }
   ],
   "source": [
    "pr_c_79_4 = cat.cerad_score(\n",
    "    shape=\"cube\",\n",
    "    image_input=pr_cog['c_79_4_pic_path'].tolist(),\n",
    "    api_key=open_ai_key,\n",
    "    safety=True,\n",
    "    user_model=\"gpt-4o\",\n",
    "    filename=f\"{save_path}/c_79_4_machine_score_full.csv\",\n",
    ")"
   ]
  },
  {
   "cell_type": "code",
   "execution_count": 6,
   "id": "e38f8510",
   "metadata": {},
   "outputs": [
    {
     "name": "stdout",
     "output_type": "stream",
     "text": [
      "Provided a list of 203 images.\n"
     ]
    },
    {
     "name": "stderr",
     "output_type": "stream",
     "text": [
      "Scoring images: 100%|██████████| 203/203 [13:09<00:00,  3.89s/it]\n"
     ]
    }
   ],
   "source": [
    "pr_c_72_1 = cat.cerad_drawn_score(\n",
    "    shape=\"circle\",\n",
    "    image_input=pr_cog['c_72_1_pic_path'].tolist(),\n",
    "    api_key=open_ai_key,\n",
    "    safety=True,\n",
    "    reference_in_image=True,\n",
    "    user_model=\"gpt-4o\",\n",
    "    filename=f\"{save_path}/c_72_1_machine_score_full.csv\",\n",
    ")"
   ]
  },
  {
   "cell_type": "code",
   "execution_count": 8,
   "id": "109b04e0",
   "metadata": {},
   "outputs": [
    {
     "name": "stdout",
     "output_type": "stream",
     "text": [
      "Provided a list of 203 images.\n"
     ]
    },
    {
     "name": "stderr",
     "output_type": "stream",
     "text": [
      "Scoring images: 100%|██████████| 203/203 [13:42<00:00,  4.05s/it]\n"
     ]
    }
   ],
   "source": [
    "pr_c_72_2 = cat.cerad_drawn_score(\n",
    "    shape=\"diamond\",\n",
    "    image_input=pr_cog['c_72_2_pic_path'].tolist(),\n",
    "    api_key=open_ai_key,\n",
    "    safety=True,\n",
    "    reference_in_image=True,\n",
    "    user_model=\"gpt-4o\",\n",
    "    filename=f\"{save_path}/c_72_2_machine_score_full.csv\",\n",
    ")"
   ]
  }
 ],
 "metadata": {
  "kernelspec": {
   "display_name": "“AI”",
   "language": "python",
   "name": "ai"
  },
  "language_info": {
   "codemirror_mode": {
    "name": "ipython",
    "version": 3
   },
   "file_extension": ".py",
   "mimetype": "text/x-python",
   "name": "python",
   "nbconvert_exporter": "python",
   "pygments_lexer": "ipython3",
   "version": "3.8.18"
  }
 },
 "nbformat": 4,
 "nbformat_minor": 5
}
