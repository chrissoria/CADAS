{
 "cells": [
  {
   "cell_type": "code",
   "execution_count": 1,
   "id": "94064f73",
   "metadata": {},
   "outputs": [],
   "source": [
    "import pandas as pd\n",
    "import numpy as np\n",
    "import catllm as cat\n",
    "import json\n",
    "import os\n",
    "import regex\n",
    "import glob\n",
    "import time\n",
    "from dotenv import load_dotenv, find_dotenv\n",
    "from pathlib import Path"
   ]
  },
  {
   "cell_type": "code",
   "execution_count": 2,
   "id": "1a555a0c",
   "metadata": {},
   "outputs": [
    {
     "name": "stdout",
     "output_type": "stream",
     "text": [
      "0.0.42\n"
     ]
    }
   ],
   "source": [
    "print(cat.__version__)"
   ]
  },
  {
   "cell_type": "code",
   "execution_count": 3,
   "id": "33208203",
   "metadata": {},
   "outputs": [],
   "source": [
    "country = \"Rep Dom\"\n",
    "latest_upload = \"2025_06_30\"\n",
    "rescore = True"
   ]
  },
  {
   "cell_type": "code",
   "execution_count": 4,
   "id": "b3ebf88c",
   "metadata": {},
   "outputs": [],
   "source": [
    "os.chdir('/Users/chrissoria/Documents/Research/Categorization_AI_experiments')\n",
    "current_directory = os.getcwd()\n",
    "\n",
    "dotenv_path = Path('/Users/chrissoria/Documents/Research/Categorization_AI_experiments/.env')\n",
    "pictures_path = f\"/Users/chrissoria/Google Drive/other computers/My Laptop (1)/documents/cadas/data/CADAS data upload/{country}/All_Image_Files\"\n",
    "if rescore == True:\n",
    "    latest_cog_path = f\"/Users/chrissoria/Google Drive/other computers/My Laptop (1)/documents/cadas/Data/CADAS data upload/{country}/Sync_files/{latest_upload}/EXCEL/cog_merged_all_scores.xlsx\"\n",
    "else:\n",
    "    latest_cog_path = f\"/Users/chrissoria/Google Drive/other computers/My Laptop (1)/documents/cadas/Data/CADAS data upload/{country}/Sync_files/{latest_upload}/EXCEL/cognitive.xlsx\"\n",
    "save_path = f\"/Users/chrissoria/Google Drive/other computers/My Laptop (1)/documents/cadas/data/CADAS data upload/{country}/Figures/AI_Scores\"\n",
    "\n",
    "load_dotenv(dotenv_path=dotenv_path)\n",
    "\n",
    "open_ai_key = os.environ.get(\"OPENAI_API_KEY\")"
   ]
  },
  {
   "cell_type": "markdown",
   "id": "4986826e",
   "metadata": {},
   "source": [
    "read in data"
   ]
  },
  {
   "cell_type": "code",
   "execution_count": 5,
   "id": "0eb9d2e2",
   "metadata": {},
   "outputs": [
    {
     "name": "stdout",
     "output_type": "stream",
     "text": [
      "/Users/chrissoria/Google Drive/other computers/My Laptop (1)/documents/cadas/Data/CADAS data upload/Rep Dom/Sync_files/2025_06_30/EXCEL/cog_merged_all_scores.xlsx\n",
      "The number of rows in the Puerto Rico cognitive data before dropping non-resumen matches is: 1468\n",
      "1468\n",
      "768\n"
     ]
    },
    {
     "data": {
      "text/html": [
       "<div>\n",
       "<style scoped>\n",
       "    .dataframe tbody tr th:only-of-type {\n",
       "        vertical-align: middle;\n",
       "    }\n",
       "\n",
       "    .dataframe tbody tr th {\n",
       "        vertical-align: top;\n",
       "    }\n",
       "\n",
       "    .dataframe thead th {\n",
       "        text-align: right;\n",
       "    }\n",
       "</style>\n",
       "<table border=\"1\" class=\"dataframe\">\n",
       "  <thead>\n",
       "    <tr style=\"text-align: right;\">\n",
       "      <th></th>\n",
       "      <th>pid</th>\n",
       "      <th>pid2</th>\n",
       "      <th>c_interid</th>\n",
       "      <th>c_houseid</th>\n",
       "      <th>c_clustid</th>\n",
       "      <th>c_particid</th>\n",
       "      <th>c_country</th>\n",
       "      <th>c_houseid2</th>\n",
       "      <th>c_conglid2</th>\n",
       "      <th>c_particid2</th>\n",
       "      <th>...</th>\n",
       "      <th>c_79_1_score_ai</th>\n",
       "      <th>c_79_1_score_strict_ai</th>\n",
       "      <th>c_79_2_ai_score</th>\n",
       "      <th>c_79_3_ai_score</th>\n",
       "      <th>v3</th>\n",
       "      <th>c_79_4_ai_score</th>\n",
       "      <th>c_79_1_pic_ty</th>\n",
       "      <th>c_79_2_pic_ty</th>\n",
       "      <th>c_79_3_pic_ty</th>\n",
       "      <th>c_79_4_pic_ty</th>\n",
       "    </tr>\n",
       "  </thead>\n",
       "  <tbody>\n",
       "    <tr>\n",
       "      <th>0</th>\n",
       "      <td>14801301</td>\n",
       "      <td>NaN</td>\n",
       "      <td>NaN</td>\n",
       "      <td>NaN</td>\n",
       "      <td>NaN</td>\n",
       "      <td>NaN</td>\n",
       "      <td>NaN</td>\n",
       "      <td>NaN</td>\n",
       "      <td>NaN</td>\n",
       "      <td>NaN</td>\n",
       "      <td>...</td>\n",
       "      <td>NaN</td>\n",
       "      <td>NaN</td>\n",
       "      <td>NaN</td>\n",
       "      <td>NaN</td>\n",
       "      <td>NaN</td>\n",
       "      <td>NaN</td>\n",
       "      <td>NaN</td>\n",
       "      <td>NaN</td>\n",
       "      <td>NaN</td>\n",
       "      <td>NaN</td>\n",
       "    </tr>\n",
       "    <tr>\n",
       "      <th>1</th>\n",
       "      <td>16405201</td>\n",
       "      <td>NaN</td>\n",
       "      <td>NaN</td>\n",
       "      <td>NaN</td>\n",
       "      <td>NaN</td>\n",
       "      <td>NaN</td>\n",
       "      <td>NaN</td>\n",
       "      <td>NaN</td>\n",
       "      <td>NaN</td>\n",
       "      <td>NaN</td>\n",
       "      <td>...</td>\n",
       "      <td>NaN</td>\n",
       "      <td>NaN</td>\n",
       "      <td>NaN</td>\n",
       "      <td>NaN</td>\n",
       "      <td>NaN</td>\n",
       "      <td>NaN</td>\n",
       "      <td>NaN</td>\n",
       "      <td>NaN</td>\n",
       "      <td>NaN</td>\n",
       "      <td>NaN</td>\n",
       "    </tr>\n",
       "    <tr>\n",
       "      <th>2</th>\n",
       "      <td>11103101</td>\n",
       "      <td>NaN</td>\n",
       "      <td>NaN</td>\n",
       "      <td>NaN</td>\n",
       "      <td>NaN</td>\n",
       "      <td>NaN</td>\n",
       "      <td>NaN</td>\n",
       "      <td>NaN</td>\n",
       "      <td>NaN</td>\n",
       "      <td>NaN</td>\n",
       "      <td>...</td>\n",
       "      <td>NaN</td>\n",
       "      <td>NaN</td>\n",
       "      <td>NaN</td>\n",
       "      <td>NaN</td>\n",
       "      <td>NaN</td>\n",
       "      <td>NaN</td>\n",
       "      <td>NaN</td>\n",
       "      <td>NaN</td>\n",
       "      <td>NaN</td>\n",
       "      <td>NaN</td>\n",
       "    </tr>\n",
       "    <tr>\n",
       "      <th>3</th>\n",
       "      <td>11104502</td>\n",
       "      <td>NaN</td>\n",
       "      <td>NaN</td>\n",
       "      <td>NaN</td>\n",
       "      <td>NaN</td>\n",
       "      <td>NaN</td>\n",
       "      <td>NaN</td>\n",
       "      <td>NaN</td>\n",
       "      <td>NaN</td>\n",
       "      <td>NaN</td>\n",
       "      <td>...</td>\n",
       "      <td>NaN</td>\n",
       "      <td>NaN</td>\n",
       "      <td>NaN</td>\n",
       "      <td>NaN</td>\n",
       "      <td>NaN</td>\n",
       "      <td>NaN</td>\n",
       "      <td>NaN</td>\n",
       "      <td>NaN</td>\n",
       "      <td>NaN</td>\n",
       "      <td>NaN</td>\n",
       "    </tr>\n",
       "    <tr>\n",
       "      <th>4</th>\n",
       "      <td>11207602</td>\n",
       "      <td>NaN</td>\n",
       "      <td>NaN</td>\n",
       "      <td>NaN</td>\n",
       "      <td>NaN</td>\n",
       "      <td>NaN</td>\n",
       "      <td>NaN</td>\n",
       "      <td>NaN</td>\n",
       "      <td>NaN</td>\n",
       "      <td>NaN</td>\n",
       "      <td>...</td>\n",
       "      <td>NaN</td>\n",
       "      <td>NaN</td>\n",
       "      <td>NaN</td>\n",
       "      <td>NaN</td>\n",
       "      <td>NaN</td>\n",
       "      <td>NaN</td>\n",
       "      <td>NaN</td>\n",
       "      <td>NaN</td>\n",
       "      <td>NaN</td>\n",
       "      <td>NaN</td>\n",
       "    </tr>\n",
       "  </tbody>\n",
       "</table>\n",
       "<p>5 rows × 354 columns</p>\n",
       "</div>"
      ],
      "text/plain": [
       "        pid  pid2  c_interid  c_houseid  c_clustid  c_particid c_country  \\\n",
       "0  14801301   NaN        NaN        NaN        NaN         NaN       NaN   \n",
       "1  16405201   NaN        NaN        NaN        NaN         NaN       NaN   \n",
       "2  11103101   NaN        NaN        NaN        NaN         NaN       NaN   \n",
       "3  11104502   NaN        NaN        NaN        NaN         NaN       NaN   \n",
       "4  11207602   NaN        NaN        NaN        NaN         NaN       NaN   \n",
       "\n",
       "   c_houseid2  c_conglid2  c_particid2  ... c_79_1_score_ai  \\\n",
       "0         NaN         NaN          NaN  ...             NaN   \n",
       "1         NaN         NaN          NaN  ...             NaN   \n",
       "2         NaN         NaN          NaN  ...             NaN   \n",
       "3         NaN         NaN          NaN  ...             NaN   \n",
       "4         NaN         NaN          NaN  ...             NaN   \n",
       "\n",
       "  c_79_1_score_strict_ai c_79_2_ai_score c_79_3_ai_score  v3 c_79_4_ai_score  \\\n",
       "0                    NaN             NaN             NaN NaN             NaN   \n",
       "1                    NaN             NaN             NaN NaN             NaN   \n",
       "2                    NaN             NaN             NaN NaN             NaN   \n",
       "3                    NaN             NaN             NaN NaN             NaN   \n",
       "4                    NaN             NaN             NaN NaN             NaN   \n",
       "\n",
       "  c_79_1_pic_ty c_79_2_pic_ty c_79_3_pic_ty c_79_4_pic_ty  \n",
       "0           NaN           NaN           NaN           NaN  \n",
       "1           NaN           NaN           NaN           NaN  \n",
       "2           NaN           NaN           NaN           NaN  \n",
       "3           NaN           NaN           NaN           NaN  \n",
       "4           NaN           NaN           NaN           NaN  \n",
       "\n",
       "[5 rows x 354 columns]"
      ]
     },
     "execution_count": 5,
     "metadata": {},
     "output_type": "execute_result"
    }
   ],
   "source": [
    "print(latest_cog_path)\n",
    "cog = pd.read_excel(latest_cog_path)\n",
    "\n",
    "print(f\"The number of rows in the Puerto Rico cognitive data before dropping non-resumen matches is: {len(cog)}\")\n",
    "\n",
    "if rescore == True:\n",
    "    print(len(cog))\n",
    "    cog = cog[cog['c_79_1_score_strict_ai'].isna()]\n",
    "    print(len(cog))\n",
    "\n",
    "cog.head()"
   ]
  },
  {
   "cell_type": "markdown",
   "id": "3a705c8a",
   "metadata": {},
   "source": [
    "defining the function that will process the pictures columns"
   ]
  },
  {
   "cell_type": "code",
   "execution_count": 6,
   "id": "8126e4d5",
   "metadata": {},
   "outputs": [
    {
     "name": "stdout",
     "output_type": "stream",
     "text": [
      "/Users/chrissoria/Google Drive/other computers/My Laptop (1)/documents/cadas/data/CADAS data upload/Rep Dom/All_Image_Files/\n"
     ]
    }
   ],
   "source": [
    "def process_pic_column(df, pic_col, pictures_path):\n",
    "    pic_col = pic_col.lower()\n",
    "    processed_pics = df[pic_col].apply(lambda x: str(x) if str(x).endswith('.jpg') else str(x) + '.jpg' if not pd.isna(x) else '')\n",
    "    return pictures_path + '/' + processed_pics\n",
    "\n",
    "#defining the pictures columns\n",
    "pic_columns = ['c_72_1_pic', 'c_72_2_pic', 'c_72_3_pic', 'c_72_4_pic', 'c_79_1_pic', 'c_79_2_pic', 'c_79_3_pic', 'c_79_4_pic']\n",
    "\n",
    "# process each picture column\n",
    "for pic_col in pic_columns:\n",
    "    cog[f'{pic_col}_path'] = process_pic_column(cog, pic_col, pictures_path)\n",
    "\n",
    "print(cog['c_72_1_pic_path'][1])"
   ]
  },
  {
   "cell_type": "code",
   "execution_count": null,
   "id": "9ba756f5",
   "metadata": {},
   "outputs": [
    {
     "name": "stdout",
     "output_type": "stream",
     "text": [
      "Provided a list of 768 images.\n"
     ]
    },
    {
     "name": "stderr",
     "output_type": "stream",
     "text": [
      "Scoring images:   5%|▌         | 41/768 [00:00<00:01, 409.53it/s]"
     ]
    },
    {
     "name": "stdout",
     "output_type": "stream",
     "text": [
      "Skipped NaN input or invalid path\n",
      "Skipped NaN input or invalid path\n",
      "Skipped NaN input or invalid path\n",
      "Skipped NaN input or invalid path\n",
      "Skipped NaN input or invalid path\n",
      "Skipped NaN input or invalid path\n",
      "Skipped NaN input or invalid path\n",
      "Skipped NaN input or invalid path\n",
      "Skipped NaN input or invalid path\n",
      "Skipped NaN input or invalid path\n",
      "Skipped NaN input or invalid path\n",
      "Skipped NaN input or invalid path\n",
      "Skipped NaN input or invalid path\n",
      "Skipped NaN input or invalid path\n",
      "Skipped NaN input or invalid path\n",
      "Skipped NaN input or invalid path\n",
      "Skipped NaN input or invalid path\n",
      "Skipped NaN input or invalid path\n",
      "Skipped NaN input or invalid path\n",
      "Skipped NaN input or invalid path\n",
      "Skipped NaN input or invalid path\n",
      "Skipped NaN input or invalid path\n",
      "Skipped NaN input or invalid path\n",
      "Skipped NaN input or invalid path\n",
      "Skipped NaN input or invalid path\n",
      "Skipped NaN input or invalid path\n",
      "Skipped NaN input or invalid path\n",
      "Skipped NaN input or invalid path\n",
      "Skipped NaN input or invalid path\n",
      "Skipped NaN input or invalid path\n",
      "Skipped NaN input or invalid path\n",
      "Skipped NaN input or invalid path\n",
      "Skipped NaN input or invalid path\n",
      "Skipped NaN input or invalid path\n",
      "Skipped NaN input or invalid path\n",
      "Skipped NaN input or invalid path\n",
      "Skipped NaN input or invalid path\n",
      "Skipped NaN input or invalid path\n",
      "Skipped NaN input or invalid path\n",
      "Skipped NaN input or invalid path\n",
      "Skipped NaN input or invalid path\n",
      "Skipped NaN input or invalid path\n",
      "Skipped NaN input or invalid path\n",
      "Skipped NaN input or invalid path\n",
      "Skipped NaN input or invalid path\n",
      "Skipped NaN input or invalid path\n",
      "Skipped NaN input or invalid path\n",
      "Skipped NaN input or invalid path\n",
      "Skipped NaN input or invalid path\n",
      "Skipped NaN input or invalid path\n",
      "Skipped NaN input or invalid path\n",
      "Skipped NaN input or invalid path\n",
      "Skipped NaN input or invalid path\n"
     ]
    },
    {
     "name": "stderr",
     "output_type": "stream",
     "text": [
      "Scoring images: 100%|██████████| 768/768 [10:19<00:00,  1.24it/s]\n"
     ]
    }
   ],
   "source": [
    "pr_c_79_1 = cat.cerad_drawn_score(\n",
    "    shape=\"circle\",\n",
    "    image_input=cog['c_79_1_pic_path'].tolist(),\n",
    "    api_key=open_ai_key,\n",
    "    reference_in_image=False,\n",
    "    user_model=\"gpt-4o-mini\",\n",
    "    safety=True,\n",
    "    filename=f\"{save_path}/c_79_1_machine_score_full_rescore1.csv\", #make sure to change this so that it doesn't overwrite the previous file\n",
    ")"
   ]
  },
  {
   "cell_type": "code",
   "execution_count": null,
   "id": "416c6a91",
   "metadata": {},
   "outputs": [
    {
     "name": "stdout",
     "output_type": "stream",
     "text": [
      "Provided a list of 768 images.\n"
     ]
    },
    {
     "name": "stderr",
     "output_type": "stream",
     "text": [
      "Scoring images:   6%|▌         | 46/768 [00:00<00:01, 450.30it/s]"
     ]
    },
    {
     "name": "stdout",
     "output_type": "stream",
     "text": [
      "Skipped NaN input or invalid path\n",
      "Skipped NaN input or invalid path\n",
      "Skipped NaN input or invalid path\n",
      "Skipped NaN input or invalid path\n",
      "Skipped NaN input or invalid path\n",
      "Skipped NaN input or invalid path\n",
      "Skipped NaN input or invalid path\n",
      "Skipped NaN input or invalid path\n",
      "Skipped NaN input or invalid path\n",
      "Skipped NaN input or invalid path\n",
      "Skipped NaN input or invalid path\n",
      "Skipped NaN input or invalid path\n",
      "Skipped NaN input or invalid path\n",
      "Skipped NaN input or invalid path\n",
      "Skipped NaN input or invalid path\n",
      "Skipped NaN input or invalid path\n",
      "Skipped NaN input or invalid path\n",
      "Skipped NaN input or invalid path\n",
      "Skipped NaN input or invalid path\n",
      "Skipped NaN input or invalid path\n",
      "Skipped NaN input or invalid path\n",
      "Skipped NaN input or invalid path\n",
      "Skipped NaN input or invalid path\n",
      "Skipped NaN input or invalid path\n",
      "Skipped NaN input or invalid path\n",
      "Skipped NaN input or invalid path\n",
      "Skipped NaN input or invalid path\n",
      "Skipped NaN input or invalid path\n",
      "Skipped NaN input or invalid path\n",
      "Skipped NaN input or invalid path\n",
      "Skipped NaN input or invalid path\n",
      "Skipped NaN input or invalid path\n",
      "Skipped NaN input or invalid path\n",
      "Skipped NaN input or invalid path\n",
      "Skipped NaN input or invalid path\n",
      "Skipped NaN input or invalid path\n",
      "Skipped NaN input or invalid path\n",
      "Skipped NaN input or invalid path\n",
      "Skipped NaN input or invalid path\n",
      "Skipped NaN input or invalid path\n",
      "Skipped NaN input or invalid path\n",
      "Skipped NaN input or invalid path\n",
      "Skipped NaN input or invalid path\n",
      "Skipped NaN input or invalid path\n",
      "Skipped NaN input or invalid path\n",
      "Skipped NaN input or invalid path\n",
      "Skipped NaN input or invalid path\n",
      "Skipped NaN input or invalid path\n",
      "Skipped NaN input or invalid path\n",
      "Skipped NaN input or invalid path\n",
      "Skipped NaN input or invalid path\n",
      "Skipped NaN input or invalid path\n",
      "Skipped NaN input or invalid path\n"
     ]
    },
    {
     "name": "stderr",
     "output_type": "stream",
     "text": [
      "Scoring images: 100%|██████████| 768/768 [09:03<00:00,  1.41it/s]\n"
     ]
    }
   ],
   "source": [
    "pr_c_79_2 = cat.cerad_drawn_score(\n",
    "    shape=\"diamond\",\n",
    "    image_input=cog['c_79_2_pic_path'].tolist(),\n",
    "    api_key=open_ai_key,\n",
    "    reference_in_image=False,\n",
    "    user_model=\"gpt-4o-mini\",\n",
    "    safety=True,\n",
    "    filename=f\"{save_path}/c_79_2_machine_score_full_rescore1.csv\", #make sure to change this so that it doesn't overwrite the previous file\n",
    ")"
   ]
  },
  {
   "cell_type": "code",
   "execution_count": null,
   "id": "fb1b2d91",
   "metadata": {},
   "outputs": [
    {
     "name": "stdout",
     "output_type": "stream",
     "text": [
      "Provided a list of 768 images.\n"
     ]
    },
    {
     "name": "stderr",
     "output_type": "stream",
     "text": [
      "Scoring images:   2%|▏         | 19/768 [00:00<00:03, 188.63it/s]"
     ]
    },
    {
     "name": "stdout",
     "output_type": "stream",
     "text": [
      "Skipped NaN input or invalid path\n",
      "Skipped NaN input or invalid path\n",
      "Skipped NaN input or invalid path\n",
      "Skipped NaN input or invalid path\n",
      "Skipped NaN input or invalid path\n",
      "Skipped NaN input or invalid path\n",
      "Skipped NaN input or invalid path\n",
      "Skipped NaN input or invalid path\n",
      "Skipped NaN input or invalid path\n",
      "Skipped NaN input or invalid path\n",
      "Skipped NaN input or invalid path\n",
      "Skipped NaN input or invalid path\n",
      "Skipped NaN input or invalid path\n",
      "Skipped NaN input or invalid path\n",
      "Skipped NaN input or invalid path\n",
      "Skipped NaN input or invalid path\n",
      "Skipped NaN input or invalid path\n",
      "Skipped NaN input or invalid path\n",
      "Skipped NaN input or invalid path\n",
      "Skipped NaN input or invalid path\n",
      "Skipped NaN input or invalid path\n",
      "Skipped NaN input or invalid path\n",
      "Skipped NaN input or invalid path\n",
      "Skipped NaN input or invalid path\n",
      "Skipped NaN input or invalid path\n",
      "Skipped NaN input or invalid path\n",
      "Skipped NaN input or invalid path\n",
      "Skipped NaN input or invalid path\n",
      "Skipped NaN input or invalid path\n",
      "Skipped NaN input or invalid path\n",
      "Skipped NaN input or invalid path\n",
      "Skipped NaN input or invalid path\n",
      "Skipped NaN input or invalid path\n",
      "Skipped NaN input or invalid path\n",
      "Skipped NaN input or invalid path\n",
      "Skipped NaN input or invalid path\n",
      "Skipped NaN input or invalid path\n",
      "Skipped NaN input or invalid path\n",
      "Skipped NaN input or invalid path\n",
      "Skipped NaN input or invalid path\n",
      "Skipped NaN input or invalid path\n",
      "Skipped NaN input or invalid path\n",
      "Skipped NaN input or invalid path\n",
      "Skipped NaN input or invalid path\n"
     ]
    },
    {
     "name": "stderr",
     "output_type": "stream",
     "text": [
      "Scoring images:   6%|▌         | 44/768 [00:00<00:03, 209.19it/s]"
     ]
    },
    {
     "name": "stdout",
     "output_type": "stream",
     "text": [
      "Skipped NaN input or invalid path\n",
      "Skipped NaN input or invalid path\n",
      "Skipped NaN input or invalid path\n",
      "Skipped NaN input or invalid path\n",
      "Skipped NaN input or invalid path\n",
      "Skipped NaN input or invalid path\n",
      "Skipped NaN input or invalid path\n",
      "Skipped NaN input or invalid path\n",
      "Skipped NaN input or invalid path\n"
     ]
    },
    {
     "name": "stderr",
     "output_type": "stream",
     "text": [
      "Scoring images: 100%|██████████| 768/768 [08:46<00:00,  1.46it/s]\n"
     ]
    }
   ],
   "source": [
    "pr_c_79_3 = cat.cerad_drawn_score(\n",
    "    shape=\"rectangles\",\n",
    "    image_input=cog['c_79_3_pic_path'].tolist(),\n",
    "    api_key=open_ai_key,\n",
    "    reference_in_image=False,\n",
    "    user_model=\"gpt-4o-mini\",\n",
    "    safety=True,\n",
    "    filename=f\"{save_path}/c_79_3_machine_score_full_rescore1.csv\", #make sure to change this so that it doesn't overwrite the previous file\n",
    ")"
   ]
  },
  {
   "cell_type": "code",
   "execution_count": 8,
   "id": "0860b705",
   "metadata": {},
   "outputs": [
    {
     "name": "stdout",
     "output_type": "stream",
     "text": [
      "Provided a list of 768 images.\n"
     ]
    },
    {
     "name": "stderr",
     "output_type": "stream",
     "text": [
      "Scoring images: 100%|██████████| 768/768 [28:36<00:00,  2.23s/it]\n"
     ]
    }
   ],
   "source": [
    "pr_c_79_4 = cat.cerad_drawn_score(\n",
    "    shape=\"cube\",\n",
    "    image_input=cog['c_79_4_pic_path'].tolist(),\n",
    "    api_key=open_ai_key,\n",
    "    safety=True,\n",
    "    reference_in_image=False,\n",
    "    user_model=\"gpt-4o\",\n",
    "    filename=f\"{save_path}/c_79_4_machine_score_full_rescore1.csv\", #make sure to change this so that it doesn't overwrite the previous file\n",
    ")"
   ]
  },
  {
   "cell_type": "code",
   "execution_count": null,
   "id": "e38f8510",
   "metadata": {},
   "outputs": [
    {
     "name": "stdout",
     "output_type": "stream",
     "text": [
      "Provided a list of 768 images.\n"
     ]
    },
    {
     "name": "stderr",
     "output_type": "stream",
     "text": [
      "Scoring images:   5%|▍         | 36/768 [00:00<00:02, 356.52it/s]"
     ]
    },
    {
     "name": "stdout",
     "output_type": "stream",
     "text": [
      "Skipped NaN input or invalid path\n",
      "Skipped NaN input or invalid path\n",
      "Skipped NaN input or invalid path\n",
      "Skipped NaN input or invalid path\n",
      "Skipped NaN input or invalid path\n",
      "Skipped NaN input or invalid path\n",
      "Skipped NaN input or invalid path\n",
      "Skipped NaN input or invalid path\n",
      "Skipped NaN input or invalid path\n",
      "Skipped NaN input or invalid path\n",
      "Skipped NaN input or invalid path\n",
      "Skipped NaN input or invalid path\n",
      "Skipped NaN input or invalid path\n",
      "Skipped NaN input or invalid path\n",
      "Skipped NaN input or invalid path\n",
      "Skipped NaN input or invalid path\n",
      "Skipped NaN input or invalid path\n",
      "Skipped NaN input or invalid path\n",
      "Skipped NaN input or invalid path\n",
      "Skipped NaN input or invalid path\n",
      "Skipped NaN input or invalid path\n",
      "Skipped NaN input or invalid path\n",
      "Skipped NaN input or invalid path\n",
      "Skipped NaN input or invalid path\n",
      "Skipped NaN input or invalid path\n",
      "Skipped NaN input or invalid path\n",
      "Skipped NaN input or invalid path\n",
      "Skipped NaN input or invalid path\n",
      "Skipped NaN input or invalid path\n",
      "Skipped NaN input or invalid path\n",
      "Skipped NaN input or invalid path\n",
      "Skipped NaN input or invalid path\n",
      "Skipped NaN input or invalid path\n",
      "Skipped NaN input or invalid path\n",
      "Skipped NaN input or invalid path\n",
      "Skipped NaN input or invalid path\n",
      "Skipped NaN input or invalid path\n",
      "Skipped NaN input or invalid path\n",
      "Skipped NaN input or invalid path\n",
      "Skipped NaN input or invalid path\n",
      "Skipped NaN input or invalid path\n",
      "Skipped NaN input or invalid path\n",
      "Skipped NaN input or invalid path\n",
      "Skipped NaN input or invalid path\n",
      "Skipped NaN input or invalid path\n",
      "Skipped NaN input or invalid path\n",
      "Skipped NaN input or invalid path\n",
      "Skipped NaN input or invalid path\n",
      "Skipped NaN input or invalid path\n",
      "Skipped NaN input or invalid path\n",
      "Skipped NaN input or invalid path\n",
      "Skipped NaN input or invalid path\n",
      "Skipped NaN input or invalid path\n"
     ]
    },
    {
     "name": "stderr",
     "output_type": "stream",
     "text": [
      "Scoring images: 100%|██████████| 768/768 [29:13<00:00,  2.28s/it]  \n"
     ]
    }
   ],
   "source": [
    "pr_c_72_1 = cat.cerad_drawn_score(\n",
    "    shape=\"circle\",\n",
    "    image_input=cog['c_72_1_pic_path'].tolist(),\n",
    "    api_key=open_ai_key,\n",
    "    safety=True,\n",
    "    reference_in_image=True,\n",
    "    user_model=\"gpt-4o\",\n",
    "    filename=f\"{save_path}/c_72_1_machine_score_full_rescore1.csv\", #make sure to change this so that it doesn't overwrite the previous file\n",
    ")"
   ]
  },
  {
   "cell_type": "code",
   "execution_count": 12,
   "id": "109b04e0",
   "metadata": {},
   "outputs": [
    {
     "name": "stdout",
     "output_type": "stream",
     "text": [
      "Provided a list of 768 images.\n"
     ]
    },
    {
     "name": "stderr",
     "output_type": "stream",
     "text": [
      "Scoring images: 100%|██████████| 768/768 [22:09<00:00,  1.73s/it]  \n"
     ]
    }
   ],
   "source": [
    "pr_c_72_2 = cat.cerad_drawn_score(\n",
    "    shape=\"diamond\",\n",
    "    image_input=cog['c_72_2_pic_path'].tolist(),\n",
    "    api_key=open_ai_key,\n",
    "    safety=True,\n",
    "    reference_in_image=True,\n",
    "    user_model=\"gpt-4o\",\n",
    "    filename=f\"{save_path}/c_72_2_machine_score_full_rescore1.csv\", #make sure to change this so that it doesn't overwrite the previous file\n",
    ")"
   ]
  },
  {
   "cell_type": "code",
   "execution_count": 13,
   "id": "4c8c3661",
   "metadata": {},
   "outputs": [
    {
     "name": "stdout",
     "output_type": "stream",
     "text": [
      "Provided a list of 768 images.\n"
     ]
    },
    {
     "name": "stderr",
     "output_type": "stream",
     "text": [
      "Scoring images: 100%|██████████| 768/768 [21:06<00:00,  1.65s/it]\n"
     ]
    }
   ],
   "source": [
    "pr_c_72_3 = cat.cerad_drawn_score(\n",
    "    shape=\"rectangles\",\n",
    "    image_input=cog['c_72_3_pic_path'].tolist(),\n",
    "    api_key=open_ai_key,\n",
    "    safety=True,\n",
    "    reference_in_image=True,\n",
    "    user_model=\"gpt-4o\",\n",
    "    filename=f\"{save_path}/c_72_3_machine_score_full_rescore1.csv\", #make sure to change this so that it doesn't overwrite the previous file\n",
    ")"
   ]
  },
  {
   "cell_type": "markdown",
   "id": "0bede3d2",
   "metadata": {},
   "source": [
    "hello darkness my old friend"
   ]
  },
  {
   "cell_type": "code",
   "execution_count": 10,
   "id": "2baba00a",
   "metadata": {},
   "outputs": [
    {
     "name": "stdout",
     "output_type": "stream",
     "text": [
      "Provided a list of 768 images.\n"
     ]
    },
    {
     "name": "stderr",
     "output_type": "stream",
     "text": [
      "Scoring images: 100%|██████████| 768/768 [1:20:35<00:00,  6.30s/it]  \n"
     ]
    }
   ],
   "source": [
    "pr_c_72_4 = cat.cerad_drawn_score(\n",
    "    shape=\"cube\", #change to shape that you want to score\n",
    "    image_input=cog['c_72_4_pic_path'].tolist(),\n",
    "    api_key=open_ai_key,\n",
    "    safety=True,\n",
    "    reference_in_image=True,\n",
    "    user_model=\"gpt-4o\",\n",
    "    filename=f\"{save_path}/c_72_4_machine_score_full_rescore1.csv\", #make sure to change this so that it doesn't overwrite the previous file\n",
    ")"
   ]
  }
 ],
 "metadata": {
  "kernelspec": {
   "display_name": "AI",
   "language": "python",
   "name": "python3"
  },
  "language_info": {
   "codemirror_mode": {
    "name": "ipython",
    "version": 3
   },
   "file_extension": ".py",
   "mimetype": "text/x-python",
   "name": "python",
   "nbconvert_exporter": "python",
   "pygments_lexer": "ipython3",
   "version": "3.8.18"
  }
 },
 "nbformat": 4,
 "nbformat_minor": 5
}
