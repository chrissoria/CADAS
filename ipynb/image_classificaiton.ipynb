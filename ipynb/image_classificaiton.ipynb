{
 "cells": [
  {
   "cell_type": "code",
   "execution_count": 1,
   "id": "026c3181",
   "metadata": {},
   "outputs": [
    {
     "ename": "ModuleNotFoundError",
     "evalue": "No module named 'catllm'",
     "output_type": "error",
     "traceback": [
      "\u001b[0;31m---------------------------------------------------------------------------\u001b[0m",
      "\u001b[0;31mModuleNotFoundError\u001b[0m                       Traceback (most recent call last)",
      "Cell \u001b[0;32mIn[1], line 3\u001b[0m\n\u001b[1;32m      1\u001b[0m \u001b[38;5;28;01mimport\u001b[39;00m \u001b[38;5;21;01mpandas\u001b[39;00m \u001b[38;5;28;01mas\u001b[39;00m \u001b[38;5;21;01mpd\u001b[39;00m\n\u001b[1;32m      2\u001b[0m \u001b[38;5;28;01mimport\u001b[39;00m \u001b[38;5;21;01mnumpy\u001b[39;00m \u001b[38;5;28;01mas\u001b[39;00m \u001b[38;5;21;01mnp\u001b[39;00m\n\u001b[0;32m----> 3\u001b[0m \u001b[38;5;28;01mimport\u001b[39;00m \u001b[38;5;21;01mcatllm\u001b[39;00m\n\u001b[1;32m      4\u001b[0m \u001b[38;5;28;01mimport\u001b[39;00m \u001b[38;5;21;01mjson\u001b[39;00m\n\u001b[1;32m      5\u001b[0m \u001b[38;5;28;01mimport\u001b[39;00m \u001b[38;5;21;01mos\u001b[39;00m\n",
      "\u001b[0;31mModuleNotFoundError\u001b[0m: No module named 'catllm'"
     ]
    }
   ],
   "source": [
    "import pandas as pd\n",
    "import numpy as np\n",
    "import catllm\n",
    "import json\n",
    "import os\n",
    "import regex\n",
    "import glob\n",
    "import time\n",
    "from dotenv import load_dotenv, find_dotenv\n",
    "import requests\n",
    "import google.generativeai as genai\n",
    "import matplotlib.pyplot as plt\n",
    "import seaborn as sns\n",
    "from matplotlib.colors import LinearSegmentedColormap\n",
    "from pathlib import Path\n",
    "\n",
    "\n",
    "os.chdir('/Users/chrissoria/Documents/Research/Categorization_AI_experiments')\n",
    "current_directory = os.getcwd()\n",
    "\n",
    "dotenv_path = Path('/Users/chrissoria/Documents/Research/Categorization_AI_experiments/.env')\n",
    "pictures_path = \"/Users/chrissoria/Google Drive/other computers/My Laptop (1)/documents/cadas/data/CADAS data upload/Rep Dom/All_Image_Files\"\n",
    "\n",
    "load_dotenv(dotenv_path=dotenv_path)\n",
    "\n",
    "open_ai_key = os.environ.get(\"OPENAI_API_KEY\")\n",
    "\n",
    "def process_scored_data(scored_data, pictures_path):\n",
    "    processed_test_data = {}\n",
    "    processed_data = {}\n",
    "    for i in range(1, 5):\n",
    "        pic_ty_col = f'c_79_{i}_pic_ty'\n",
    "        pic_col = f'c_79_{i}_pic'\n",
    "        \n",
    "        # Convert to numeric with coercion\n",
    "        scored_data[pic_ty_col] = pd.to_numeric(scored_data[pic_ty_col], errors='coerce')\n",
    "        \n",
    "        # Filter rows where pic column meets all criteria\n",
    "        all_scored_data = scored_data[scored_data[pic_col].notna()]\n",
    "        all_scored_data = all_scored_data[all_scored_data[pic_col] != '']\n",
    "        all_scored_data = all_scored_data[all_scored_data[pic_col] != '.v']\n",
    "        all_scored_data = all_scored_data[all_scored_data[pic_col] != 'i']\n",
    "        all_scored_data[pic_col] = all_scored_data[pic_col].apply(lambda x: str(x) if not pd.isna(x) else '') + '.jpg'\n",
    "        all_scored_data[f'{pic_col}_path'] = pictures_path + '/' + all_scored_data[pic_col]\n",
    "        \n",
    "        # Filter rows where pic_ty column is not NA\n",
    "        scored_data_c = scored_data[scored_data[pic_ty_col].notna()]\n",
    "        print(f'Initial count for {pic_ty_col}:', len(scored_data_c))\n",
    "        \n",
    "        # Filter out rows where pic_ty is '.v' or empty string\n",
    "        scored_data_c = scored_data_c[scored_data_c[pic_ty_col] != '.v']\n",
    "        print(f'After removing \".v\" for {pic_ty_col}:', len(scored_data_c))\n",
    "        \n",
    "        scored_data_c = scored_data_c[scored_data_c[pic_ty_col] != '']\n",
    "        print(f'After removing empty string for {pic_ty_col}:', len(scored_data_c))\n",
    "        \n",
    "        # Create paths and select columns\n",
    "        scored_data_c[pic_col] = scored_data_c[pic_col].apply(lambda x: str(x) if not pd.isna(x) else '') + '.jpg'\n",
    "        scored_data_c[f'{pic_col}_path'] = pictures_path + '/' + scored_data_c[pic_col]\n",
    "        scored_data_c = scored_data_c[[pic_col, f'{pic_col}_path', pic_ty_col]]\n",
    "        \n",
    "        # Store in dictionary\n",
    "        processed_test_data[f'scored_data_c_79_{i}'] = scored_data_c\n",
    "        processed_data[f'all_79_{i}_scored_data'] = all_scored_data\n",
    "    \n",
    "    return processed_test_data, processed_data\n",
    "\n",
    "def process_pic_column(df, pic_col, pictures_path):\n",
    "    df = df[df[pic_col].notna()]\n",
    "    df = df[df[pic_col] != '']\n",
    "    df = df[df[pic_col] != '.v']\n",
    "    df = df[df[pic_col] != '.i']\n",
    "    df[pic_col] = df[pic_col].apply(lambda x: str(x) if not pd.isna(x) else '') + '.jpg'\n",
    "    df[f'{pic_col}_path'] = pictures_path + '/' + df[pic_col]\n",
    "    return df"
   ]
  },
  {
   "cell_type": "code",
   "execution_count": 13,
   "id": "252249c7",
   "metadata": {},
   "outputs": [],
   "source": [
    "more_scored_data = pd.read_excel('/Users/chrissoria/Google Drive/other computers/My Laptop (1)/documents/cadas/data/CADAS data upload/Rep Dom/Figures/all_image_scoring_DR.xlsx')\n",
    "\n",
    "more_scored_data_c_72_3 = process_pic_column(more_scored_data, 'c_72_3_pic', pictures_path)\n",
    "more_scored_data_c_72_4 = process_pic_column(more_scored_data, 'c_72_4_pic', pictures_path)"
   ]
  },
  {
   "cell_type": "code",
   "execution_count": 1,
   "id": "554ffe4a",
   "metadata": {},
   "outputs": [
    {
     "name": "stdout",
     "output_type": "stream",
     "text": [
      "cat-llm is installed\n"
     ]
    }
   ],
   "source": [
    "import pkg_resources\n",
    "try:\n",
    "    pkg_resources.get_distribution(\"cat-llm\")\n",
    "    print(\"cat-llm is installed\")\n",
    "except pkg_resources.DistributionNotFound:\n",
    "    print(\"cat-llm is not installed\")\n"
   ]
  },
  {
   "cell_type": "code",
   "execution_count": 17,
   "id": "fdc4348b",
   "metadata": {},
   "outputs": [],
   "source": [
    "c_72_3\n",
    "\n",
    "c_72_3.to_csv('/Users/chrissoria/Google Drive/other computers/My Laptop (1)/documents/cadas/data/CADAS data upload/Rep Dom/Figures/c_72_3_machine_scored.csv', index=False)"
   ]
  },
  {
   "cell_type": "code",
   "execution_count": 12,
   "id": "a25957bc",
   "metadata": {},
   "outputs": [
    {
     "name": "stdout",
     "output_type": "stream",
     "text": [
      "Provided a list of 842 images.\n",
      "Categories to classify:\n",
      "1. It has a drawing of a overlapping rectangles next to a reference\n",
      "2. The drawing is not similar to the reference\n",
      "3. The drawing is similar to the reference (regardless of size)\n",
      "4. The drawing of a rectangle 1 has 4 sides\n",
      "5. The drawing of a rectangle 2 has 4 sides\n",
      "6. The drawing of a the rectangles are overlapping\n",
      "7. The drawing of the rectangles overlapping has a longer vertical rectangle with top and bottom sticking out\n",
      "8. None of the above\n"
     ]
    },
    {
     "name": "stderr",
     "output_type": "stream",
     "text": [
      "Categorising images:  77%|███████▋  | 648/842 [1:52:43<21:34,  6.67s/it]    "
     ]
    },
    {
     "name": "stdout",
     "output_type": "stream",
     "text": [
      "An error occurred: Error code: 400 - {'error': {'message': 'Invalid base64 image_url.', 'type': 'invalid_request_error', 'param': None, 'code': 'invalid_base64'}}\n"
     ]
    },
    {
     "name": "stderr",
     "output_type": "stream",
     "text": [
      "Categorising images: 100%|██████████| 842/842 [2:28:26<00:00, 10.58s/it]  \n"
     ]
    }
   ],
   "source": [
    "image_categories = [\"It has a drawing of a overlapping rectangles next to a reference\",\n",
    "                    \"The drawing is not similar to the reference\",\n",
    "                    \"The drawing is similar to the reference (regardless of size)\",\n",
    "                    \"The drawing of a rectangle 1 has 4 sides\",\n",
    "                    \"The drawing of a rectangle 2 has 4 sides\",\n",
    "                    \"The drawing of a the rectangles are overlapping\",\n",
    "                    \"The drawing of the rectangles overlapping has a longer vertical rectangle with top and bottom sticking out\",\n",
    "                    \"None of the above\"]\n",
    "\n",
    "c_72_3 = cat_llm.llm_extract_image_multi_class(\n",
    "    image_description = \"This image reference image of a overlapping rectangles on the top left. The drawing is meant to be similar to the reference overlapping rectangles.\", \n",
    "    image_input= more_scored_data_c_72_3['c_72_3_pic_path'].tolist(),\n",
    "    categories = image_categories,\n",
    "    api_key= os.environ.get(\"OPENAI_API_KEY\"))\n",
    "\n",
    "c_72_3 = c_72_3.rename(columns={\n",
    "    \"1\": \"drawing_present\",\n",
    "    \"2\": \"not_similar\",\n",
    "    \"3\": \"similar\",\n",
    "    \"4\": \"rect_1_4_sides\",\n",
    "    \"5\": \"rect_2_4_sides\",\n",
    "    \"6\": \"rectangles_overlap\",\n",
    "    \"7\": \"rect_overlap_top_portrudes\",\n",
    "    \"8\": \"none\"\n",
    "})\n",
    "\n",
    "c_72_3.to_csv('/Users/chrissoria/Google Drive/other computers/My Laptop (1)/documents/cadas/data/CADAS data upload/Rep Dom/Figures/c_72_3_machine_scored_full.csv', index=False)"
   ]
  },
  {
   "cell_type": "code",
   "execution_count": 18,
   "id": "e9c217f7",
   "metadata": {},
   "outputs": [],
   "source": [
    "c_72_4.to_csv('/Users/chrissoria/Google Drive/other computers/My Laptop (1)/documents/cadas/data/CADAS data upload/Rep Dom/Figures/c_72_4_machine_scored.csv', index=False)"
   ]
  },
  {
   "cell_type": "code",
   "execution_count": 19,
   "id": "6f7fe489",
   "metadata": {},
   "outputs": [
    {
     "name": "stdout",
     "output_type": "stream",
     "text": [
      "Provided a list of 1025 images.\n",
      "Categories to classify:\n",
      "1. It has a drawing of a cube next to the reference\n",
      "2. The drawing is not similar to the reference\n",
      "3. The drawing is similar to the reference (regardless of size)\n",
      "4. The drawing front face looks like a square\n",
      "5. The drawing has a cube with internal lines that match the reference\n",
      "6. The drawing has a cube where front and back squares are parallel\n",
      "7. None of the above\n"
     ]
    },
    {
     "name": "stderr",
     "output_type": "stream",
     "text": [
      "Categorising images: 100%|██████████| 1025/1025 [1:55:23<00:00,  6.75s/it] \n"
     ]
    }
   ],
   "source": [
    "image_categories = [\"It has a drawing of a cube next to the reference\",\n",
    "                    \"The drawing is not similar to the reference\",\n",
    "                    \"The drawing is similar to the reference (regardless of size)\",\n",
    "                    \"The drawing front face looks like a square\",\n",
    "                    \"The drawing has a cube with internal lines that match the reference\",\n",
    "                    \"The drawing has a cube where front and back squares are parallel\",\n",
    "                    \"None of the above\"]\n",
    "\n",
    "c_72_4 = cat_llm.llm_extract_image_multi_class(\n",
    "    image_description = \"This image reference image of a cube on the top left. The drawing is meant to be similar to the reference cube.\", \n",
    "    image_input= more_scored_data_c_72_4['c_72_4_pic_path'].tolist(),\n",
    "    categories = image_categories,\n",
    "    safety=True,\n",
    "    to_csv = True,\n",
    "    filename=\"c_72_4_machine_scored.csv\",\n",
    "    save_directory = \"/Users/chrissoria/Google Drive/other computers/My Laptop (1)/documents/cadas/data/CADAS data upload/Rep Dom/Figures/\",\n",
    "    api_key= os.environ.get(\"OPENAI_API_KEY\"))\n",
    "\n",
    "c_72_4 = c_72_4.rename(columns={\n",
    "    \"1\": \"drawing_present\",\n",
    "    \"2\": \"not_similar\",\n",
    "    \"3\": \"similar\",\n",
    "    \"4\": \"cube_front_face\",\n",
    "    \"5\": \"cube_internal_lines\",\n",
    "    \"6\": \"cube_opposite_sides\",\n",
    "    \"7\": \"none\"\n",
    "})\n",
    "\n",
    "c_72_4.to_csv('/Users/chrissoria/Google Drive/other computers/My Laptop (1)/documents/cadas/data/CADAS data upload/Rep Dom/Figures/c_72_4_machine_scored.csv', index=False)"
   ]
  },
  {
   "cell_type": "code",
   "execution_count": null,
   "id": "3766976f",
   "metadata": {},
   "outputs": [],
   "source": []
  }
 ],
 "metadata": {
  "kernelspec": {
   "display_name": "“AI”",
   "language": "python",
   "name": "ai"
  },
  "language_info": {
   "codemirror_mode": {
    "name": "ipython",
    "version": 3
   },
   "file_extension": ".py",
   "mimetype": "text/x-python",
   "name": "python",
   "nbconvert_exporter": "python",
   "pygments_lexer": "ipython3",
   "version": "3.8.18"
  }
 },
 "nbformat": 4,
 "nbformat_minor": 5
}
