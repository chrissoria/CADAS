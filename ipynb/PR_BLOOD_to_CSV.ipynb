{
 "cells": [
  {
   "cell_type": "code",
   "execution_count": 1,
   "id": "c8ef430a",
   "metadata": {},
   "outputs": [],
   "source": [
    "import pandas as pd\n",
    "import re\n",
    "from pypdf import PdfReader\n",
    "from pypdf.errors import PdfReadError\n",
    "import os,glob"
   ]
  },
  {
   "cell_type": "code",
   "execution_count": 2,
   "id": "43df5200",
   "metadata": {},
   "outputs": [],
   "source": [
    "chris_path = r\"/Users/chrissoria/Google Drive/Other Computers/My Laptop (1)/documents/cadas/data/CADAS data upload/PR lab results\"\n",
    "ty_path = r\"C:\\Users\\Ty\\Downloads\\PR_blood.csv\""
   ]
  },
  {
   "cell_type": "code",
   "execution_count": 3,
   "id": "8512d431",
   "metadata": {},
   "outputs": [
    {
     "name": "stdout",
     "output_type": "stream",
     "text": [
      "/Users/chrissoria/Google Drive/Other Computers/My Laptop (1)/documents/cadas/data/CADAS data upload/PR lab results\n",
      "/Users/chrissoria/Google Drive/Other Computers/My Laptop (1)/documents/cadas/data/CADAS data upload/PR lab results/CADAS LABS Aug29_2024.pdf\n"
     ]
    }
   ],
   "source": [
    "path = chris_path if os.getcwd() == '/Users/chrissoria/Documents/Research/CADAS/ipynb' else ty_path\n",
    "pdf_path = os.path.join(path, \"CADAS LABS Aug29_2024.pdf\")\n",
    "\n",
    "print(path)\n",
    "print(pdf_path)"
   ]
  },
  {
   "cell_type": "markdown",
   "id": "86565055",
   "metadata": {},
   "source": [
    "Looking for all files in the directory. Here, we will want to select only files that are PDF."
   ]
  },
  {
   "cell_type": "code",
   "execution_count": 4,
   "id": "e7d630f3",
   "metadata": {},
   "outputs": [
    {
     "name": "stdout",
     "output_type": "stream",
     "text": [
      "['.DS_Store', 'All_PDF_Blood_Results.csv', 'Blood Tabla.xlsx', 'CADAS LABS Aug29_2024.pdf']\n"
     ]
    }
   ],
   "source": [
    "files = [f for f in os.listdir(path) if os.path.isfile(os.path.join(path, f))]\n",
    "\n",
    "print(files)"
   ]
  },
  {
   "cell_type": "code",
   "execution_count": null,
   "id": "907a8a7b",
   "metadata": {
    "scrolled": true
   },
   "outputs": [],
   "source": [
    "with open(os.path.join(pdf_path), 'r+') as labels:\n",
    "    labels.write(\"SA_ClusterID,SA_HouseID,SA_PersonID,SA_Sex,SA_Age,GlobulosBlancos,GlobulosRojos,Hemoglobina,Hematrocrito,VCM,HCM,CHCM,RDW,Plaquetas,VPM,PDW,Neutrofilos,NeutrofilosP,Linfocitos,LinfocitosP,Monocitos,MonocitosP,Eosinofilos,EosinofilosP,Basofilos,BasofilosP,HbA1c,Immature Granulocytes,Immature GranulocytesP,Nucleated RBC,Nucleated RBC P,RDW SD\")\n",
    "with open(pdf_path, 'rb') as f:\n",
    "    reader = PdfReader(f)\n",
    "    for i in range(len(reader.pages)//2):\n",
    "        finaltext = \"start\"\n",
    "        page1 = reader.pages[2*i]\n",
    "        page2 = reader.pages[2*i+1]\n",
    "        #    finaltext = \"start\"\n",
    "        #    page1 = reader.pages[6]\n",
    "        #    page2 = reader.pages[7]\n",
    "        finaltext = finaltext + \"\\n\" + page1.extract_text() + \"\\n\" + page2.extract_text()\n",
    "        ID_match = re.search(r'(Cluster.{0,32})', finaltext)\n",
    "        if ID_match:\n",
    "            ParticID = ID_match.group(1)\n",
    "            ParticID = ParticID.replace(\"_\", \",\")\n",
    "            ParticID = ParticID.replace(\"\\xa0\",\"\")\n",
    "            ParticID = ParticID.replace(\" \", \"\")\n",
    "            if ParticID[-1] == \",\" :\n",
    "                ParticID = ParticID[0:-1]\n",
    "            ParticID = ParticID.replace(\"Cluster,\", \"\")\n",
    "            ParticID = ParticID.replace(\"Casa,\", \"\")\n",
    "            ParticID = ParticID.replace(\"Participante\", \"\")\n",
    "            ParticID = ParticID.replace(\",,\", \",\")\n",
    "            cluster = ParticID.split(\",\")[0]\n",
    "            houseid = ParticID.split(\",\")[1]\n",
    "            houseid = houseid.replace(\" \", \"\")\n",
    "            personid = ParticID.split(\",\")[-1]\n",
    "            personid = personid.replace(\" \", \"\")\n",
    "            print(ParticID)\n",
    "            print(personid)\n",
    "        else:\n",
    "            cluster = \".\"\n",
    "            houseid = \".\"\n",
    "            personid = \".\"\n",
    "        age_match = re.search(r'((.*(\\n|\\r|\\r\\n)){1})BIRTH', finaltext)\n",
    "        if age_match:\n",
    "            age_sex = age_match.group(1)\n",
    "            age_sex = age_sex.strip()\n",
    "            age = age_sex.split(\" \")[1]\n",
    "            sex = age_sex.split(\" \")[-1]\n",
    "            age_sex = age_sex.replace(\"BIRTH\", \"\")\n",
    "        else:\n",
    "            age = \".\"\n",
    "            sex = \".\"\n",
    "        WBC = re.search(r'RESULT NORMAL VALUE(.*(\\n|\\r|\\r\\n)){2}', page2.extract_text())\n",
    "        if WBC:\n",
    "            data1 = WBC[1][:4]\n",
    "        else:\n",
    "            data1 = \".\"\n",
    "        RBC = re.search(r'RESULT NORMAL VALUE(.*(\\n|\\r|\\r\\n)){3}', page2.extract_text())\n",
    "        if RBC:\n",
    "            data2 = RBC[1][:4]\n",
    "        else:\n",
    "            data2 = \".\"\n",
    "        HGB = re.search(r'RESULT NORMAL VALUE(.*(\\n|\\r|\\r\\n)){4}', page2.extract_text())\n",
    "        if HGB:\n",
    "            data3 = HGB[1][:4]\n",
    "        else:\n",
    "            data3 = \".\"\n",
    "        hematocrito = re.search(r'RESULT NORMAL VALUE(.*(\\n|\\r|\\r\\n)){5}', page2.extract_text())\n",
    "        if hematocrito:\n",
    "            data4 = hematocrito[1][:5]\n",
    "        else:\n",
    "            data4 = \".\" \n",
    "        VCM = re.search(r'RESULT NORMAL VALUE(.*(\\n|\\r|\\r\\n)){7}', page2.extract_text())\n",
    "        if VCM:\n",
    "            data5 = VCM[1][:5]\n",
    "        else:\n",
    "            data5 = \".\"\n",
    "        HCM = re.search(r'RESULT NORMAL VALUE(.*(\\n|\\r|\\r\\n)){8}', page2.extract_text())\n",
    "        if HCM:\n",
    "            data6 = HCM[1][:5]\n",
    "        else:\n",
    "            data6 = \".\"\n",
    "        CHCM = re.search(r'RESULT NORMAL VALUE(.*(\\n|\\r|\\r\\n)){9}', page2.extract_text())\n",
    "        if CHCM:\n",
    "            data7 = CHCM[1][:5]\n",
    "        else:\n",
    "            data7 = \".\"\n",
    "        RDW = re.search(r'RESULT NORMAL VALUE(.*(\\n|\\r|\\r\\n)){26}', page2.extract_text())\n",
    "        if RDW:\n",
    "            data8 = RDW[1][:5]\n",
    "        else:\n",
    "            data8 = \".\"\n",
    "        plaquetas = re.search(r'RESULT NORMAL VALUE(.*(\\n|\\r|\\r\\n)){6}', page2.extract_text())\n",
    "        if plaquetas:\n",
    "             data9 = plaquetas[1][:5]\n",
    "        else:\n",
    "            data9 = \".\"\n",
    "        VPM = re.search(r'RESULT NORMAL VALUE(.*(\\n|\\r|\\r\\n)){24}', page2.extract_text())    \n",
    "        if VPM:\n",
    "            data10 = VPM[1][:5]\n",
    "        else:\n",
    "            data10 = \".\"\n",
    "        PDW = re.search(r'(PDW...{0,43})', finaltext)\n",
    "        if PDW:\n",
    "            data11 = PDW[1][:5]\n",
    "        else:\n",
    "            data11 = \".\"\n",
    "        neutrofilos = re.search(r'RESULT NORMAL VALUE(.*(\\n|\\r|\\r\\n)){13}', page2.extract_text())\n",
    "        if neutrofilos:\n",
    "            data12 = neutrofilos[1][:4]\n",
    "        else:\n",
    "            data12 = \".\"\n",
    "        neutrofilosP = re.search(r'RESULT NORMAL VALUE(.*(\\n|\\r|\\r\\n)){12}', page2.extract_text())\n",
    "        if neutrofilosP:\n",
    "            data13 = neutrofilosP[1][:5]\n",
    "        else:\n",
    "            data13 = \".\"\n",
    "        linfocitos = re.search(r'RESULT NORMAL VALUE(.*(\\n|\\r|\\r\\n)){11}', page2.extract_text())\n",
    "        if linfocitos:\n",
    "            data14 = linfocitos[1][:4]\n",
    "        else:\n",
    "            data14 = \".\"\n",
    "        linfocitosP = re.search(r'RESULT NORMAL VALUE(.*(\\n|\\r|\\r\\n)){10}', page2.extract_text())\n",
    "        if linfocitosP:\n",
    "            data15 = linfocitosP[1][:5]\n",
    "        else:\n",
    "            data15 = \".\"\n",
    "        monocitos = re.search(r'RESULT NORMAL VALUE(.*(\\n|\\r|\\r\\n)){15}', page2.extract_text())\n",
    "        if monocitos:\n",
    "            data16 = monocitos[1][:4]\n",
    "        else:\n",
    "            data16 = \".\"\n",
    "        monocitosP = re.search(r'RESULT NORMAL VALUE(.*(\\n|\\r|\\r\\n)){14}', page2.extract_text())\n",
    "        if monocitosP:\n",
    "            data17 = monocitosP[1][:4]\n",
    "        else:\n",
    "            data17 = \".\"\n",
    "        eosinofilos = re.search(r'RESULT NORMAL VALUE(.*(\\n|\\r|\\r\\n)){17}', page2.extract_text())\n",
    "        if eosinofilos:\n",
    "            data18 = eosinofilos[1][:5]\n",
    "        else:\n",
    "            data18 = \".\"\n",
    "        eosinofilosP = re.search(r'RESULT NORMAL VALUE(.*(\\n|\\r|\\r\\n)){16}', page2.extract_text())\n",
    "        if eosinofilosP:\n",
    "            data19 = eosinofilosP[1][:3]\n",
    "        else:\n",
    "            data19 = \".\"\n",
    "        basofilos = re.search(r'RESULT NORMAL VALUE(.*(\\n|\\r|\\r\\n)){19}', page2.extract_text())\n",
    "        if basofilos:\n",
    "            data20 = basofilos[1][:5]\n",
    "        else:\n",
    "            data20 = \".\"\n",
    "        basofilosP = re.search(r'RESULT NORMAL VALUE(.*(\\n|\\r|\\r\\n)){18}', page2.extract_text())\n",
    "        if basofilosP:\n",
    "            data21 = basofilosP[1][:4]\n",
    "        else:\n",
    "            data21 = \".\"\n",
    "        SA1c = re.search(r'Adult/elderly(.*(\\n|\\r|\\r\\n)){2}', page1.extract_text())\n",
    "        if SA1c:\n",
    "            data22 = SA1c[1][:4]\n",
    "            data22 = data22.replace(\" (%) AlC \", \"\")\n",
    "        else:\n",
    "            data22 = \".\"\n",
    "        immGranulocytes = re.search(r'RESULT NORMAL VALUE(.*(\\n|\\r|\\r\\n)){21}', page2.extract_text())\n",
    "        if immGranulocytes:\n",
    "            data23 = immGranulocytes[1][:5]\n",
    "        else:\n",
    "            data23 = \".\"\n",
    "        immGranulocytesP = re.search(r'RESULT NORMAL VALUE(.*(\\n|\\r|\\r\\n)){20}', page2.extract_text())\n",
    "        if immGranulocytesP:\n",
    "            data24 = immGranulocytesP[1][:4]\n",
    "        else:\n",
    "            data24 = \".\"\n",
    "        nucleatedRBC = re.search(r'RESULT NORMAL VALUE(.*(\\n|\\r|\\r\\n)){23}', page2.extract_text())\n",
    "        if nucleatedRBC:\n",
    "            data25 = nucleatedRBC[1][:4]\n",
    "        else:\n",
    "            data25 = \".\"\n",
    "        nucleatedRBCP = re.search(r'RESULT NORMAL VALUE(.*(\\n|\\r|\\r\\n)){22}', page2.extract_text())\n",
    "        if nucleatedRBCP:\n",
    "            data26 = nucleatedRBCP[1][:4]\n",
    "        else:\n",
    "            data26 = \".\"\n",
    "        rdwSD = re.search(r'RESULT NORMAL VALUE(.*(\\n|\\r|\\r\\n)){25}', page2.extract_text())\n",
    "        if rdwSD:\n",
    "            data27 = rdwSD[1][:5]\n",
    "        else:\n",
    "            data27 = \".\"\n",
    "        alldata = \"\\n\" + cluster + \",\" + houseid + \",\" + personid + \",\" + sex + \",\" + age + \",\" + data1 + \",\" + data2 + \",\" + data3 + \",\" + data4 + \",\" + data5 + \",\" + data6 + \",\" + data7 + \",\" + data8 + \",\" + data9 + \",\" + data10 + \",\" + data11 + \",\" + data12 + \",\" + data13 + \",\" + data14 + \",\" + data15 + \",\" + data16 + \",\" + data17 + \",\" + data18 + \",\" + data19 + \",\" + data20 + \",\" + data21 + \",\" + data22 + \",\" + data23 + \",\" + data24 + \",\" + data25 + \",\" + data26 + \",\" + data27\n",
    "        with open(r\"C:\\Users\\Ty\\Downloads\\PR_blood.csv\", 'a') as out:\n",
    "            out.write(alldata)\n",
    "\n",
    "#Remove duplicate lines\n",
    "clean = pd.read_csv(r\"C:\\Users\\Ty\\Downloads\\PR_blood.csv\")\n",
    "clean.drop_duplicates(subset=None, inplace=True)\n",
    "clean.to_csv(r\"C:\\Users\\Ty\\Downloads\\PR_blood.csv\", index=False)"
   ]
  },
  {
   "cell_type": "code",
   "execution_count": null,
   "id": "a949577c-f804-4199-bd54-1cc043c3e705",
   "metadata": {},
   "outputs": [],
   "source": [
    "print(alldata)"
   ]
  },
  {
   "cell_type": "code",
   "execution_count": null,
   "id": "f13030cd-2115-4c64-9234-0cd267aff04a",
   "metadata": {},
   "outputs": [],
   "source": [
    "print(finaltext)"
   ]
  },
  {
   "cell_type": "code",
   "execution_count": null,
   "id": "3dc87d31-2794-4d08-b5e2-15257cb50b26",
   "metadata": {},
   "outputs": [],
   "source": [
    "print(ParticID)"
   ]
  },
  {
   "cell_type": "code",
   "execution_count": null,
   "id": "f8d1b3a0-0b82-41f9-8cba-8908591de072",
   "metadata": {},
   "outputs": [],
   "source": [
    "print(personid)"
   ]
  },
  {
   "cell_type": "code",
   "execution_count": null,
   "id": "ae20f7ba-cac0-4b35-89c0-818298f64702",
   "metadata": {},
   "outputs": [],
   "source": []
  }
 ],
 "metadata": {
  "kernelspec": {
   "display_name": "Python 3 (ipykernel)",
   "language": "python",
   "name": "python3"
  },
  "language_info": {
   "codemirror_mode": {
    "name": "ipython",
    "version": 3
   },
   "file_extension": ".py",
   "mimetype": "text/x-python",
   "name": "python",
   "nbconvert_exporter": "python",
   "pygments_lexer": "ipython3",
   "version": "3.11.5"
  }
 },
 "nbformat": 4,
 "nbformat_minor": 5
}
