{
 "cells": [
  {
   "cell_type": "code",
   "execution_count": 1,
   "id": "5def8916",
   "metadata": {},
   "outputs": [],
   "source": [
    "import os\n",
    "import pandas as pd\n",
    "import numpy as np\n",
    "from scipy.stats import pearsonr"
   ]
  },
  {
   "cell_type": "code",
   "execution_count": 2,
   "id": "ccc638ad",
   "metadata": {},
   "outputs": [],
   "source": [
    "os.chdir('/Users/chrissoria/Documents/Research/CADAS_1066/')"
   ]
  },
  {
   "cell_type": "code",
   "execution_count": 3,
   "id": "d8ce4e34",
   "metadata": {},
   "outputs": [],
   "source": [
    "df = pd.read_stata('data/1066_Baseline_data.dta', convert_categoricals=False)\n",
    "\n",
    "df.columns = df.columns.str.lower()"
   ]
  },
  {
   "cell_type": "code",
   "execution_count": 7,
   "id": "2ddd71f3",
   "metadata": {},
   "outputs": [],
   "source": [
    "df['pdas2a'] = df['pdas2'].replace({1:1, 2:1, 3:2, 4:2})\n",
    "df['pdas4a'] = df['pdas4'].replace({1:1, 2:1, 3:2, 4:2})\n",
    "df['pdas8a'] = df['pdas8'].replace({1:1, 2:1, 3:2, 4:2})\n",
    "df['pdas10a'] = df['pdas10'].replace({1:1, 2:1, 3:2, 4:2})\n",
    "df['pdas11a'] = df['pdas11'].replace({1:1, 2:1, 3:2, 4:2})\n",
    "df['pdas12a'] = df['pdas12'].replace({1:1, 2:1, 3:2, 4:2})\n",
    "\n",
    "# Generating the new variable\n",
    "df['whodas12'] = (df['pdas1'] + df['pdas2a'] + df['pdas3'] + df['pdas4a'] + df['pdas5'] +\n",
    "                  df['pdas6'] + df['pdas7'] + df['pdas8a'] + df['pdas9'] + df['pdas10a'] +\n",
    "                  df['pdas11a'] + df['pdas12a']) * (100/36)"
   ]
  }
 ],
 "metadata": {
  "kernelspec": {
   "display_name": "Python 3 (ipykernel)",
   "language": "python",
   "name": "python3"
  },
  "language_info": {
   "codemirror_mode": {
    "name": "ipython",
    "version": 3
   },
   "file_extension": ".py",
   "mimetype": "text/x-python",
   "name": "python",
   "nbconvert_exporter": "python",
   "pygments_lexer": "ipython3",
   "version": "3.9.7"
  }
 },
 "nbformat": 4,
 "nbformat_minor": 5
}
