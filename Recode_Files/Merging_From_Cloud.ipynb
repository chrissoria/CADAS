{
 "cells": [
  {
   "cell_type": "code",
   "execution_count": 1,
   "id": "43ef03ff",
   "metadata": {},
   "outputs": [],
   "source": [
    "import os,glob\n",
    "import pandas as pd\n",
    "import numpy as np"
   ]
  },
  {
   "cell_type": "code",
   "execution_count": 2,
   "id": "707daa7e",
   "metadata": {},
   "outputs": [
    {
     "ename": "FileNotFoundError",
     "evalue": "[Errno 2] No such file or directory: '/Users/chrissoria/Google Drive/Other Computers/My Laptop (1)/documents/cadas/data/CADAS data upload/Rep Dom/Sync Files + Media/10_28_23_cloud/__EpiInfo'",
     "output_type": "error",
     "traceback": [
      "\u001b[0;31m---------------------------------------------------------------------------\u001b[0m",
      "\u001b[0;31mFileNotFoundError\u001b[0m                         Traceback (most recent call last)",
      "\u001b[0;32m/var/folders/89/6bdxzk2j30v5n3wstywbcpg80000gn/T/ipykernel_12005/2747283144.py\u001b[0m in \u001b[0;36m<module>\u001b[0;34m\u001b[0m\n\u001b[0;32m----> 1\u001b[0;31m \u001b[0mos\u001b[0m\u001b[0;34m.\u001b[0m\u001b[0mchdir\u001b[0m\u001b[0;34m(\u001b[0m\u001b[0;34m'/Users/chrissoria/Google Drive/Other Computers/My Laptop (1)/documents/cadas/data/CADAS data upload/Rep Dom/Sync Files + Media/10_28_23_cloud/__EpiInfo'\u001b[0m\u001b[0;34m)\u001b[0m\u001b[0;34m\u001b[0m\u001b[0;34m\u001b[0m\u001b[0m\n\u001b[0m\u001b[1;32m      2\u001b[0m \u001b[0mcurrent_directory\u001b[0m \u001b[0;34m=\u001b[0m \u001b[0mos\u001b[0m\u001b[0;34m.\u001b[0m\u001b[0mgetcwd\u001b[0m\u001b[0;34m(\u001b[0m\u001b[0;34m)\u001b[0m\u001b[0;34m\u001b[0m\u001b[0;34m\u001b[0m\u001b[0m\n\u001b[1;32m      3\u001b[0m \u001b[0mprint\u001b[0m\u001b[0;34m(\u001b[0m\u001b[0mcurrent_directory\u001b[0m\u001b[0;34m)\u001b[0m\u001b[0;34m\u001b[0m\u001b[0;34m\u001b[0m\u001b[0m\n\u001b[1;32m      4\u001b[0m \u001b[0mfile_list\u001b[0m \u001b[0;34m=\u001b[0m \u001b[0mos\u001b[0m\u001b[0;34m.\u001b[0m\u001b[0mlistdir\u001b[0m\u001b[0;34m(\u001b[0m\u001b[0mcurrent_directory\u001b[0m\u001b[0;34m)\u001b[0m\u001b[0;34m\u001b[0m\u001b[0;34m\u001b[0m\u001b[0m\n",
      "\u001b[0;31mFileNotFoundError\u001b[0m: [Errno 2] No such file or directory: '/Users/chrissoria/Google Drive/Other Computers/My Laptop (1)/documents/cadas/data/CADAS data upload/Rep Dom/Sync Files + Media/10_28_23_cloud/__EpiInfo'"
     ]
    }
   ],
   "source": [
    "os.chdir('/Users/chrissoria/Google Drive/Other Computers/My Laptop (1)/documents/cadas/data/CADAS data upload/Rep Dom/Sync Files + Media/10_28_23_cloud/__EpiInfo')\n",
    "current_directory = os.getcwd()\n",
    "print(current_directory)\n",
    "file_list = os.listdir(current_directory)"
   ]
  },
  {
   "cell_type": "code",
   "execution_count": null,
   "id": "45aef793",
   "metadata": {},
   "outputs": [],
   "source": [
    "file_list"
   ]
  },
  {
   "cell_type": "code",
   "execution_count": null,
   "id": "38ecd0a2",
   "metadata": {},
   "outputs": [],
   "source": [
    "# Initialize an empty DataFrame to hold all rows\n",
    "master_df = pd.DataFrame()\n",
    "\n",
    "# Change directory to where the files are located\n",
    "os.chdir('/Users/chrissoria/Google Drive/Other Computers/My Laptop (1)/documents/cadas/data/CADAS data upload/Rep Dom/Sync Files + Media/10_28_23_cloud/__EpiInfo/Sangre')\n",
    "\n",
    "# List all files in the directory\n",
    "file_list = os.listdir()\n",
    "\n",
    "# Loop through each file in the directory\n",
    "for file_name in file_list:\n",
    "    # Check if the file is a .txt file\n",
    "    if file_name.endswith('.txt'):\n",
    "        # Read the content of the file\n",
    "        with open(file_name, 'r') as f:\n",
    "            file_content = f.read()\n",
    "        \n",
    "        # Parse the JSON content to a Python dictionary\n",
    "        data_dict = json.loads(file_content)\n",
    "        \n",
    "        # Create a DataFrame from the dictionary\n",
    "        df = pd.DataFrame([data_dict])\n",
    "        \n",
    "        # Append this DataFrame to the master DataFrame\n",
    "        master_df = master_df.append(df, ignore_index=True)\n",
    "\n",
    "# Now master_df contains all rows, one for each file\n",
    "print(master_df)\n",
    "\n",
    "# Save master_df to a CSV file\n",
    "master_df.to_csv('combined_data.csv', index=False)\n",
    "\n",
    "# Initialize an empty DataFrame to hold all rows\n",
    "master_df = pd.DataFrame()\n",
    "\n",
    "# Change directory to where the files are located\n",
    "os.chdir('/Users/chrissoria/Google Drive/Other Computers/My Laptop (1)/documents/cadas/data/CADAS data upload/Rep Dom/Sync Files + Media/10_28_23_cloud/__EpiInfo/cognitive')\n",
    "\n",
    "# List all files in the directory\n",
    "file_list = os.listdir()\n",
    "\n",
    "# Loop through each file in the directory\n",
    "for file_name in file_list:\n",
    "    # Check if the file is a .txt file\n",
    "    if file_name.endswith('.txt'):\n",
    "        # Read the content of the file\n",
    "        with open(file_name, 'r') as f:\n",
    "            file_content = f.read()\n",
    "            \n",
    "            if not file_content.strip():\n",
    "                print(f\"Skipping empty file: {file_name}\")\n",
    "                continue\n",
    "        \n",
    "        # Parse the JSON content to a Python dictionary\n",
    "        data_dict = json.loads(file_content)\n",
    "        \n",
    "        # Create a DataFrame from the dictionary\n",
    "        df = pd.DataFrame([data_dict])\n",
    "        \n",
    "        # Append this DataFrame to the master DataFrame\n",
    "        master_df = master_df.append(df, ignore_index=True)\n",
    "\n",
    "# Now master_df contains all rows, one for each file\n",
    "print(master_df)\n",
    "\n",
    "# Save master_df to a CSV file\n",
    "master_df.to_csv('combined_data.csv', index=False)"
   ]
  },
  {
   "cell_type": "code",
   "execution_count": null,
   "id": "b5ebebf0",
   "metadata": {},
   "outputs": [],
   "source": []
  }
 ],
 "metadata": {
  "kernelspec": {
   "display_name": "Python 3 (ipykernel)",
   "language": "python",
   "name": "python3"
  },
  "language_info": {
   "codemirror_mode": {
    "name": "ipython",
    "version": 3
   },
   "file_extension": ".py",
   "mimetype": "text/x-python",
   "name": "python",
   "nbconvert_exporter": "python",
   "pygments_lexer": "ipython3",
   "version": "3.9.7"
  }
 },
 "nbformat": 4,
 "nbformat_minor": 5
}
