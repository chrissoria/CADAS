{
 "cells": [
  {
   "cell_type": "code",
   "execution_count": 1,
   "id": "cee1974e",
   "metadata": {},
   "outputs": [],
   "source": [
    "import os\n",
    "import pandas as pd\n",
    "import numpy as np"
   ]
  },
  {
   "cell_type": "code",
   "execution_count": 2,
   "id": "66b61049",
   "metadata": {},
   "outputs": [],
   "source": [
    "os.chdir('/Users/chrissoria/Documents/Research/CADAS_1066/')"
   ]
  },
  {
   "cell_type": "code",
   "execution_count": 3,
   "id": "7c915b96",
   "metadata": {},
   "outputs": [],
   "source": [
    "df = pd.read_stata('data/1066_Baseline_data.dta', convert_categoricals=False)\n",
    "\n",
    "df.columns = df.columns.str.lower()"
   ]
  },
  {
   "cell_type": "markdown",
   "id": "40de0e80",
   "metadata": {},
   "source": [
    "notes:\n",
    "-\tIn relscore imputation procedure, we might want to look out for these two things\n",
    "In the SPSS script, I see these line of code: (RECODE\n",
    "  pred_relscore  (Lowest thru 0=0)  (30 thru Highest=10)  .\n",
    "EXECUTE .)\n",
    "-\tThis may or may not be an error, but I think they meant to write 10 thru Highest instead of 30\n",
    "o\tIt’s not consequential in the dataset you sent me (all values end up being below 10), but may be consequential if we try to replicate the algo using another dataset. \n",
    "-\tAnother area we might want to be careful about is within the cogscore computation\n",
    "o\tThis code here might be problematic: RECODE\n",
    "o\t  learn1 learn2 learn3 recall  (11=1)  (20 thru 21=2)  (30 thru 31=3)  (40 thru 41=4)  (50 thru 51=5) \n",
    "o\t(60 thru 61=6)  (70 thru 71=7)  (80 thru 81=8)  (90 thru 91=9) (99=sysmis)  .\n",
    "o\tEXECUTE ."
   ]
  },
  {
   "cell_type": "markdown",
   "id": "d4c431c9",
   "metadata": {},
   "source": [
    "First, let's compute the cogscore"
   ]
  },
  {
   "cell_type": "markdown",
   "id": "1b3085cc",
   "metadata": {},
   "source": [
    "$$\n",
    "\\text{cogscore} = 1.03125 \\times \\sum_{i=1}^{7} C_i\n",
    "$$"
   ]
  },
  {
   "cell_type": "markdown",
   "id": "45f2af2a",
   "metadata": {},
   "source": [
    "where C = the following score variables\n",
    "* 1 ability to say the interviewer's name and remember it \n",
    "* 2 ability to identify common objects, repeat simple words, orient themselves in space and time, and motor skills\n",
    "* 3 ability quickly list the names of animals \n",
    "* 4 ability to immediately recall of words\n",
    "* 5 ability to delayed recall of words\n",
    "* 6 ability to fold paper and follow instructions\n",
    "* 7 ability to recall the elements of a story"
   ]
  },
  {
   "cell_type": "code",
   "execution_count": 4,
   "id": "4b8352d1",
   "metadata": {},
   "outputs": [
    {
     "name": "stdout",
     "output_type": "stream",
     "text": [
      "Range of cogscore: 0.0 to 33.76222826086956\n"
     ]
    }
   ],
   "source": [
    "df['nametot'] = 0\n",
    "\n",
    "#c_0 in CADAS\n",
    "df['nametot'] = np.where(df['name'] > 0, 1, df['nametot']) #I'm assuming this is where someone is asked to repeat a name\n",
    "#c_65 in CADAS\n",
    "df['nametot'] = np.where(df['nrecall'] > 0, 1, df['nametot']) #I'm assuming this is the name recall from cognitve\n",
    "\n",
    "# Counting the number of 1s in specific columns (all binary)\n",
    "\n",
    "df['count'] = df[['pencil', 'watch', 'chair', 'shoes', 'knuckle', 'elbow', 'should', 'bridge', 'hammer', \n",
    "                 'pray', 'chemist', 'repeat', 'town', 'chief', 'street', 'store', 'address', 'longmem', \n",
    "                 'month', 'day', 'year', 'season', 'nod', 'point', 'circle', 'pentag']].sum(axis=1)\n",
    "\n",
    "# Recoding values from na to 0 so that we can perform the arithmetic\n",
    "\n",
    "columns_to_replace_sysmis = ['animals', 'wordimm', 'worddel', 'paper', 'story', 'learn1', 'learn2', \n",
    "                             'learn3', 'recall', 'pencil', 'watch', 'chair', 'shoes', 'knuckle', 'elbow', \n",
    "                             'should', 'bridge', 'hammer', 'pray', 'chemist', 'repeat', 'town', 'chief', \n",
    "                             'street', 'store', 'address', 'longmem', 'month', 'day', 'year', 'season', \n",
    "                             'nod', 'point', 'circle', 'pentag', 'nametot', 'nrecall']\n",
    "\n",
    "for col in columns_to_replace_sysmis:\n",
    "    df[col] = df[col].replace(np.nan, 0)\n",
    "\n",
    "#recoding 9's and 99's to 0\n",
    "\n",
    "columns_to_replace_99 = ['animals','wordimm','worddel','paper','story']\n",
    "\n",
    "columns_to_replace_9 = ['wordimm','worddel','paper','story']\n",
    "\n",
    "for col in columns_to_replace_99:\n",
    "    df[col] = df[col].replace(99, 0)\n",
    "    \n",
    "for col in columns_to_replace_9:\n",
    "    df[col] = df[col].replace(9, 0)\n",
    "\n",
    "#cleaning the learn variables and recoding, from what I can tell this is to fix possible errors\n",
    "#I assume this on the basis that the learn1-3 max words possible is 10\n",
    "#replacing the values 11, 20, 21, 30, 31, 40, 41, 50, 51, 60, 61, 70, 71, 80, 81, and 90 \n",
    "#with the values 1, 2, 2, 3, 3, 4, 4, 5, 5, 6, 6, 7, 7, 8, 8, and 9, respectively.\n",
    "#this may or may not be a good idea, given that we are assuming 11 was meant ot be typed in as 11 and not 10\n",
    "\n",
    "columns_to_recode = ['learn1', 'learn2', 'learn3', 'recall']\n",
    "\n",
    "for col in columns_to_recode:\n",
    "    # Map specific values\n",
    "    df[col] = df[col].replace(11, 1)\n",
    "    df[col] = df[col].replace({20: 2, 21: 2})\n",
    "    df[col] = df[col].replace({30: 3, 31: 3})\n",
    "    df[col] = df[col].replace({40: 4, 41: 4})\n",
    "    df[col] = df[col].replace({50: 5, 51: 5})\n",
    "    df[col] = df[col].replace({60: 6, 61: 6})\n",
    "    df[col] = df[col].replace({70: 7, 71: 7})\n",
    "    df[col] = df[col].replace({80: 8, 81: 8})\n",
    "    df[col] = df[col].replace({90: 9, 91: 9})\n",
    "    # Map 99 to sysmis (in pandas, we usually use NaN from the numpy library to represent missing data)\n",
    "    df[col] = df[col].replace(99, np.nan)\n",
    "\n",
    "#below should all be binary 0 1 varaibles, we will recode any values greater than 2 but less than 9 as na\n",
    "#this is an odd recoding, why less than 9? We will have to be careful with this in CADAS\n",
    "\n",
    "columns_to_recode = ['name', 'pencil', 'watch', 'chair', 'shoes', 'knuckle', 'elbow', \n",
    "                     'should', 'bridge', 'hammer', 'pray', 'chemist', 'repeat', 'town', \n",
    "                     'chief', 'street', 'store', 'address', 'longmem', 'month', 'day', \n",
    "                     'year', 'season', 'nod', 'point', 'circle', 'pentag']\n",
    "\n",
    "for col in columns_to_recode:\n",
    "    df[col] = df[col].apply(lambda x: np.nan if 2 <= x <= 9 else x)\n",
    "\n",
    "#more cleaning, recoding any values higher than a certain amount as \"na\"\n",
    "\n",
    "greater_than_var = ['animals','wordimm','worddel','paper','story','recall','immed','nrecall']\n",
    "greater_than_number = [45,3,3,3,6,10,29,1]\n",
    "\n",
    "for col, num in zip(greater_than_var, greater_than_number):\n",
    "    df[col] = df[col].apply(lambda x: np.nan if x > num else x)\n",
    "\n",
    "#dividing by total amount of possible correct answers to get a \"total\"\n",
    "\n",
    "divide_var = ['animals','wordimm','worddel','paper','story']\n",
    "divisor = [23,3,3,3,6] #we might want to take a look at this and why we're dividing by 23\n",
    "new_column = ['animtot','wordtot1','wordtot2','papertot','storytot']\n",
    "\n",
    "for col,num,new in zip(divide_var,divisor,new_column):\n",
    "    df[new] = df[col]/num\n",
    "    \n",
    "#then put it all together below\n",
    "#nametot = ability to say the interviewer's name and remember it\n",
    "#count = ability to identify common objects, repeat simple words, orient themselves in space and time, and motor skills\n",
    "#animtot = quickly list the names of animals \n",
    "#wordtot1 = immediate recall of words\n",
    "#wordtot2 = delayed recall of words\n",
    "#papertot = ability to fold paper and follow instructions\n",
    "#storytot = ability to recall the elements of a story\n",
    "\n",
    "df['cogscore'] = 1.03125 * (df['nametot'] + df['count'] + df['animtot'] + df['wordtot1'] + \n",
    "                            df['wordtot2'] + df['papertot'] + df['storytot'])\n",
    "\n",
    "min_value = df['cogscore'].min()\n",
    "max_value = df['cogscore'].max()\n",
    "\n",
    "print(f\"Range of cogscore: {min_value} to {max_value}\")"
   ]
  },
  {
   "cell_type": "markdown",
   "id": "6c612612",
   "metadata": {},
   "source": [
    "now, let's compute the relscore"
   ]
  },
  {
   "cell_type": "markdown",
   "id": "6f0c0200",
   "metadata": {},
   "source": [
    "$$\n",
    "\\text{relscore} = \\left( \\frac{30}{30 - \\text{misstot}} \\right) \\times \\text{S} - (\\text{miss1} + \\text{miss3}) \\times 9\n",
    "$$"
   ]
  },
  {
   "cell_type": "markdown",
   "id": "c09d3477",
   "metadata": {},
   "source": [
    "$$\n",
    "\\text{S} = \\sum_{i=1}^{24} S_i\n",
    "$$"
   ]
  },
  {
   "cell_type": "markdown",
   "id": "d605109d",
   "metadata": {},
   "source": [
    "where miss1 is,\n",
    "\n",
    "$$\n",
    "\\text{miss1} = \\sum_{i=1}^{21} S(v_i = NA)\n",
    "$$"
   ]
  },
  {
   "cell_type": "markdown",
   "id": "b43478f5",
   "metadata": {},
   "source": [
    "$$\n",
    "\\text{miss3} = \\sum_{i=22}^{24} S(v_i = NA)\n",
    "$$"
   ]
  },
  {
   "cell_type": "markdown",
   "id": "6b9fa063",
   "metadata": {},
   "source": [
    "and, misstot is 3 times miss3 plus miss1 \\\n",
    "$$\n",
    "\\text{misstot} = 3 \\times \\text{miss3} + \\text{miss1}\n",
    "$$"
   ]
  },
  {
   "cell_type": "markdown",
   "id": "2b293013",
   "metadata": {},
   "source": [
    "Observations on the relscore\n",
    "- it doesn't use all the csid vars\n",
    "- the miss3 function doesn't include chores (for which there is also a choredis)\n",
    "- not sure why were are multiplying it by 3 when there are only 2 questions for each\n",
    "- strangely, in the choredis, lots of folks answered 1 to even if they said 0 for chores\n",
    "- There is a list of variables whose values are being halved, hobby is not in the list but looks like maybe it should be\n",
    "    - oddly, if I add that variable in the correlation gets worse"
   ]
  },
  {
   "cell_type": "code",
   "execution_count": 5,
   "id": "c6bcb426",
   "metadata": {},
   "outputs": [
    {
     "name": "stdout",
     "output_type": "stream",
     "text": [
      "The correlation between relscore2 and relscore is 0.9590793800946343\n"
     ]
    }
   ],
   "source": [
    "#recoding all the na values in this list of vars to 9\n",
    "recode_9 = [\"mental\", \"activ\", \"memory\", \"put\", \"kept\", \"frdname\", \"famname\", \"convers\", \n",
    "            \"wordfind\", \"wordwrg\", \"past\", \"lastsee\", \"lastday\", \"orient\", \"lostout\", \n",
    "            \"lostin\", \"chores\", \"hobby\", \"money\", \"change\", \"reason\", \"feed\", \"dress\", \"toilet\"]\n",
    "\n",
    "for var in recode_9:\n",
    "    df[var] = df[var].fillna(9)\n",
    "    \n",
    "#summing up all the missing values in the list (up to reason) to generate the miss 1 variable\n",
    "    \n",
    "miss1_variables = [\"mental\", \"activ\", \"memory\", \"put\", \"kept\", \"frdname\", \"famname\", \"convers\", \n",
    "            \"wordfind\", \"wordwrg\", \"past\", \"lastsee\", \"lastday\", \"orient\", \"lostout\", \n",
    "            \"lostin\", \"chores\", \"hobby\", \"money\", \"change\", \"reason\"]\n",
    "\n",
    "df['miss1'] = df[miss1_variables].apply(lambda x: (x == 9).sum(), axis=1)\n",
    "\n",
    "#counting up the remaining missing values to generate miss 3 variable\n",
    "\n",
    "miss3_variables = [\"feed\", \"dress\", \"toilet\"]\n",
    "\n",
    "df['miss3'] = df[miss3_variables].apply(lambda x: (x == 9).sum(), axis=1)\n",
    "\n",
    "#combining the two and giving miss3 3 times weight to create miss3\n",
    "\n",
    "df['misstot'] = (df['miss3']*3) + df['miss1']\n",
    "\n",
    "#halving the values (1 to .5 and 2 to 1) in the following variables\n",
    "\n",
    "recode_half = [\"put\", \"kept\", \"frdname\", \"famname\", \"convers\", \"wordfind\", \"wordwrg\", \"past\", \n",
    "            \"lastsee\", \"lastday\", \"orient\", \"lostout\", \"lostin\", \"chores\", \"change\", \"money\"]\n",
    "\n",
    "for var in recode_half:\n",
    "    df[var] = df[var].apply(lambda x: 0.5 if x == 1 else (1 if x == 2 else x))\n",
    "    \n",
    "#cancelling out the value of vars from difficulties list 1 if vars from list 2 indicates due to disability\n",
    "\n",
    "columns_to_update = [\"dress\", \"chores\", \"feed\", \"toilet\"]\n",
    "disability_flags = [\"dressdis\", \"choredis\", \"feeddis\", \"toildis\"]\n",
    "\n",
    "for col, dis_flag in zip(columns_to_update, disability_flags):\n",
    "    df[f\"{col}_original\"] = df[col]\n",
    "    df[col] = df.apply(lambda row: 0 if row[dis_flag] == 1 else row[col], axis=1)\n",
    "    \n",
    "#generating the main variable of interest, which is the sum of all values from all mentioned vars\n",
    "\n",
    "S = (\n",
    "    df['activ'] + df['mental'] + df['memory'] + df['put'] + df['kept'] + df['frdname'] + \n",
    "    df['famname'] + df['convers'] + df['wordfind'] + df['wordwrg'] + df['past'] + \n",
    "    df['lastsee'] + df['lastday'] + df['orient'] + df['lostout'] + df['lostin'] + \n",
    "    df['chores'] + df['hobby'] + df['money'] + df['change'] + df['reason'] + \n",
    "    df['feed'] + df['dress'] + df['toilet'] + df['mistake'] + df['decide'] + df['muddled']\n",
    ")\n",
    "\n",
    "#lastly, putting it all together and creating the relscore (a measure of the s vector adjusted for missingness)\n",
    "\n",
    "df['relscore2'] = (30 / (30 - df['misstot'])) * S - ((df['miss1'] + df['miss3']) * 9)\n",
    "\n",
    "df.loc[df['misstot'] >= 29, 'relscore'] = np.nan\n",
    "\n",
    "# Assuming df is your DataFrame and it has columns 'relscore2' and 'relscore'\n",
    "correlation_matrix = df[['relscore2', 'relscore']].corr()\n",
    "\n",
    "# Extract the specific correlation coefficient\n",
    "correlation_coefficient = correlation_matrix.loc['relscore2', 'relscore']\n",
    "\n",
    "print(f\"The correlation between relscore2 and relscore is {correlation_coefficient}\")"
   ]
  },
  {
   "cell_type": "markdown",
   "id": "57613583",
   "metadata": {},
   "source": [
    "and here we compute the whodas12"
   ]
  },
  {
   "cell_type": "code",
   "execution_count": 6,
   "id": "6e87cf7d",
   "metadata": {},
   "outputs": [],
   "source": [
    "df['relscore_original'] = df['relscore']"
   ]
  },
  {
   "cell_type": "markdown",
   "id": "c9fc57b2",
   "metadata": {},
   "source": [
    "below, we are inputing a predicted relscore by using information from the whodas 12 and npiseverity score (to fill in the gaps for people who may have a missing relscore) and coefficients from a linear regression."
   ]
  },
  {
   "cell_type": "markdown",
   "id": "d63233d0",
   "metadata": {},
   "source": [
    "simplified,\n",
    "\n",
    "$$\n",
    "\\text{pred_relscore}=0.004+0.072×\\text{whodas12}+0.338×\\text{npisev}\n",
    "$$"
   ]
  },
  {
   "cell_type": "markdown",
   "id": "d272b8a8",
   "metadata": {},
   "source": [
    "where.\n",
    "\n",
    "$$\n",
    "\\text{whodas12} = \\sum_{i=1}^{12} P_i\n",
    "$$"
   ]
  },
  {
   "cell_type": "markdown",
   "id": "87fa7f6d",
   "metadata": {},
   "source": [
    "and,\n",
    "\n",
    "$$\n",
    "\\text{npisev} = \\sum_{i=1}^{12} N_i\n",
    "$$"
   ]
  },
  {
   "cell_type": "markdown",
   "id": "5211004f",
   "metadata": {},
   "source": [
    "all together,\n",
    "\n",
    "$$\n",
    "\\text{pred_relscore}=0.004+0.072×\\sum_{i=1}^{12} P_i+0.338×\\sum_{i=1}^{12} N_i\n",
    "$$"
   ]
  },
  {
   "cell_type": "markdown",
   "id": "47fe5db2",
   "metadata": {},
   "source": [
    "The last, but important step:\n",
    "    \n",
    "$$ \n",
    "\\text{pred_relscore} = \n",
    "\\begin{cases} \n",
    "0 & \\text{if } \\text{pred_relscore} < 0 \\\\\n",
    "10 & \\text{if } \\text{pred_relscore} > 10 \\\\\n",
    "\\text{pred_relscore} & \\text{otherwise}\n",
    "\\end{cases}\n",
    "$$"
   ]
  },
  {
   "cell_type": "markdown",
   "id": "ab67ee87",
   "metadata": {},
   "source": [
    "What is the npisev score? \\\n",
    "A measure behavioral and psychological symptoms adjusted for the informants impression of severity of them."
   ]
  },
  {
   "cell_type": "markdown",
   "id": "b56e2efd",
   "metadata": {},
   "source": [
    "then, where relscore is missing, we replace the value with pred_relscore"
   ]
  },
  {
   "cell_type": "markdown",
   "id": "d7672105",
   "metadata": {},
   "source": [
    "but first let's create the whodas12"
   ]
  },
  {
   "cell_type": "code",
   "execution_count": 7,
   "id": "c095e3c2",
   "metadata": {},
   "outputs": [],
   "source": [
    "df['pdas2a'] = df['pdas2'].replace({1:1, 2:1, 3:2, 4:2})\n",
    "df['pdas4a'] = df['pdas4'].replace({1:1, 2:1, 3:2, 4:2})\n",
    "df['pdas8a'] = df['pdas8'].replace({1:1, 2:1, 3:2, 4:2})\n",
    "df['pdas10a'] = df['pdas10'].replace({1:1, 2:1, 3:2, 4:2})\n",
    "df['pdas11a'] = df['pdas11'].replace({1:1, 2:1, 3:2, 4:2})\n",
    "df['pdas12a'] = df['pdas12'].replace({1:1, 2:1, 3:2, 4:2})\n",
    "\n",
    "# Generating the new variable\n",
    "df['whodas12'] = (df['pdas1'] + df['pdas2a'] + df['pdas3'] + df['pdas4a'] + df['pdas5'] +\n",
    "                  df['pdas6'] + df['pdas7'] + df['pdas8a'] + df['pdas9'] + df['pdas10a'] +\n",
    "                  df['pdas11a'] + df['pdas12a']) * (100/36)"
   ]
  },
  {
   "cell_type": "code",
   "execution_count": 8,
   "id": "be6b5303",
   "metadata": {},
   "outputs": [],
   "source": [
    "df['pred_relscore'] = 0.004 + (0.072*df['whodas12']) + (0.338*df['npisev'])\n",
    "\n",
    "# recode pred_relscore so that it becomes a scale from 1-10\n",
    "# This may or may not be an error, but I think they meant to write 10 thru Highest instead of 30\n",
    "df['pred_relscore'] = df['pred_relscore'].apply(lambda x: 0 if x <= 0 else (10 if x >= 10 else x))\n",
    " \n",
    "# Fill missing values in 'relscore' with values from 'pred_relscore'\n",
    "# of course, this will only make a change where whodas12 and npisev are not na \n",
    "# (we might want to do something for those case)\n",
    "df['relscore'].fillna(df['pred_relscore'], inplace=True)"
   ]
  },
  {
   "cell_type": "markdown",
   "id": "07c96618",
   "metadata": {},
   "source": [
    "$$\n",
    "\\text{dfscore} = 0.452322 - (0.01669918 \\times \\text{cogscore}) + (0.03033851 \\times \\text{relscore})\n",
    "$$"
   ]
  },
  {
   "cell_type": "code",
   "execution_count": 9,
   "id": "8fe85fdb",
   "metadata": {},
   "outputs": [],
   "source": [
    "df['dfscore'] = 0.452322 - (0.01669918 * df['cogscore']) + (0.03033851 * df['relscore'])"
   ]
  },
  {
   "cell_type": "markdown",
   "id": "147a4173",
   "metadata": {},
   "source": [
    "and from the dfscore and dfcase we create the df case variable (1-3)"
   ]
  },
  {
   "cell_type": "markdown",
   "id": "41946621",
   "metadata": {},
   "source": [
    "For `dfcase`:\n",
    "$$\n",
    "\\text{dfcase} = \n",
    "\\begin{cases} \n",
    "1 & \\text{if } \\text{dfscore} \\leq 0.12 \\\\\n",
    "2 & \\text{if } 0.12 \\leq \\text{dfscore} < 0.184 \\\\\n",
    "3 & \\text{if } \\text{dfscore} \\geq 0.184 \\\\\n",
    "\\text{dfscore} & \\text{otherwise}\n",
    "\\end{cases}\n",
    "$$\n",
    "\n",
    "For `cogcase`:\n",
    "$$\n",
    "\\text{cogcase} = \n",
    "\\begin{cases} \n",
    "3 & \\text{if } \\text{cogscore} \\leq 28.5 \\\\\n",
    "2 & \\text{if } 28.5 < \\text{cogscore} \\leq 29.5 \\\\\n",
    "1 & \\text{if } \\text{cogscore} > 29.5 \\\\\n",
    "\\text{cogscore} & \\text{otherwise}\n",
    "\\end{cases}\n",
    "$$"
   ]
  },
  {
   "cell_type": "code",
   "execution_count": 10,
   "id": "9fa751bc",
   "metadata": {},
   "outputs": [],
   "source": [
    "df['dfcase'] = df['dfscore'].apply(\n",
    "    lambda x: 1 if x <= 0.119999999 else (2 if 0.12 <= x < 0.18399999999 else (3 if x >= 0.184 else x))\n",
    ")\n",
    "\n",
    "df['cogcase'] = df['cogscore'].apply(\n",
    "    lambda x: 3 if x <= 28.5 else (2 if 28.5 < x <= 29.5 else (1 if x > 29.5 else x))\n",
    ")"
   ]
  },
  {
   "cell_type": "markdown",
   "id": "fe12c62b",
   "metadata": {},
   "source": [
    "Here's what I know about the gmsdiag:\n",
    "\n",
    "- It appears to be a score that ranges from 1-6\n",
    "- It's taking data from the geriatric mental state survey\n",
    "- I believe it is a sum of variables that are then broken down into a 1-6 varaible\n",
    "- The higher the score the better the person's mental state\n",
    "- This appears to be a sum of components organiz, schiz, dep, and anx \n",
    "    - where the lower scores on this sum translate to a higher score on the gmsdiag"
   ]
  },
  {
   "cell_type": "markdown",
   "id": "f5764821",
   "metadata": {},
   "source": [
    "Then we do a bunch of categoreization for the following variables"
   ]
  },
  {
   "cell_type": "markdown",
   "id": "996ab2eb",
   "metadata": {},
   "source": [
    "For `ncogscor`:\n",
    "$$\n",
    "\\text{ncogscor} = \n",
    "\\begin{cases} \n",
    "1 & \\text{if } \\text{cogscore} \\leq 23.699 \\\\\n",
    "2 & \\text{if } 23.70 \\leq \\text{cogscore} \\leq 28.619 \\\\\n",
    "3 & \\text{if } 28.62 \\leq \\text{cogscore} \\leq 30.619 \\\\\n",
    "4 & \\text{if } 30.62 \\leq \\text{cogscore} \\leq 31.839 \\\\\n",
    "5 & \\text{otherwise}\n",
    "\\end{cases}\n",
    "$$"
   ]
  },
  {
   "cell_type": "markdown",
   "id": "eb207092",
   "metadata": {},
   "source": [
    "For `nrelscor`:\n",
    "$$\n",
    "\\text{nrelscor} = \n",
    "\\begin{cases} \n",
    "1 & \\text{if } \\text{relscore} \\leq 0 \\\\\n",
    "2 & \\text{if } 0 < \\text{relscore} < 1.99 \\\\\n",
    "3 & \\text{if } 1.99 \\leq \\text{relscore} < 5.0 \\\\\n",
    "4 & \\text{if } 5.0 \\leq \\text{relscore} < 12.0 \\\\\n",
    "5 & \\text{otherwise}\n",
    "\\end{cases}\n",
    "$$\n",
    "\n",
    "For `ndelay`:\n",
    "$$\n",
    "\\text{ndelay} = \n",
    "\\begin{cases} \n",
    "1 & \\text{if } \\text{recall} \\leq 1 \\\\\n",
    "2 & \\text{if } 1 < \\text{recall} \\leq 3 \\\\\n",
    "3 & \\text{if } \\text{recall} = 4 \\\\\n",
    "4 & \\text{if } 4 < \\text{recall} \\leq 6 \\\\\n",
    "5 & \\text{otherwise}\n",
    "\\end{cases}\n",
    "$$"
   ]
  },
  {
   "cell_type": "markdown",
   "id": "33359334",
   "metadata": {},
   "source": [
    "For `brelscor`:\n",
    "$$\n",
    "\\text{brelscor} = \n",
    "\\begin{cases} \n",
    "0 & \\text{if } \\text{nrelscor} = 1 \\\\\n",
    "1.908 & \\text{if } \\text{nrelscor} = 2 \\\\\n",
    "2.311 & \\text{if } \\text{nrelscor} = 3 \\\\\n",
    "4.171 & \\text{if } \\text{nrelscor} = 4 \\\\\n",
    "5.680 & \\text{if } \\text{nrelscor} = 5\n",
    "\\end{cases}\n",
    "$$\n",
    "\n",
    "For `bcogscor`:\n",
    "$$\n",
    "\\text{bcogscor} = \n",
    "\\begin{cases} \n",
    "2.801 & \\text{if } \\text{ncogscor} = 1 \\\\\n",
    "1.377 & \\text{if } \\text{ncogscor} = 2 \\\\\n",
    "0.866 & \\text{if } \\text{ncogscor} = 3 \\\\\n",
    "-0.231 & \\text{if } \\text{ncogscor} = 4 \\\\\n",
    "0 & \\text{if } \\text{ncogscor} = 5\n",
    "\\end{cases}\n",
    "$$\n"
   ]
  },
  {
   "cell_type": "markdown",
   "id": "26521b36",
   "metadata": {},
   "source": [
    "For `bdelay`:\n",
    "$$\n",
    "\\text{bdelay} = \n",
    "\\begin{cases} \n",
    "3.822 & \\text{if } \\text{ndelay} = 1 \\\\\n",
    "3.349 & \\text{if } \\text{ndelay} = 2 \\\\\n",
    "2.575 & \\text{if } \\text{ndelay} = 3 \\\\\n",
    "2.176 & \\text{if } \\text{ndelay} = 4 \\\\\n",
    "0 & \\text{if } \\text{ndelay} = 5\n",
    "\\end{cases}\n",
    "$$\n",
    "\n",
    "For `bgmsdiag`:\n",
    "$$\n",
    "\\text{bgmsdiag} = \n",
    "\\begin{cases} \n",
    "1.566 & \\text{if } \\text{gmsdiag} = 1 \\\\\n",
    "1.545 & \\text{if } \\text{gmsdiag} = 2 \\\\\n",
    "-0.635 & \\text{if } \\text{gmsdiag} = 3 \\\\\n",
    "-0.674 & \\text{if } \\text{gmsdiag} = 4 \\\\\n",
    "0.34 & \\text{if } \\text{gmsdiag} = 5 \\\\\n",
    "0 & \\text{if } \\text{gmsdiag} = 6\n",
    "\\end{cases}\n",
    "$$"
   ]
  },
  {
   "cell_type": "code",
   "execution_count": 11,
   "id": "b3704f90",
   "metadata": {},
   "outputs": [],
   "source": [
    "df['ncogscor'] = df['cogscore'].apply(lambda x: \n",
    "                                      1 if x <= 23.699 else\n",
    "                                      2 if 23.70 <= x <= 28.619 else\n",
    "                                      3 if 28.62 <= x <= 30.619 else\n",
    "                                      4 if 30.62 <= x <= 31.839 else\n",
    "                                      5)\n",
    "\n",
    "#relative score converted into a 5 point scale \n",
    "df['nrelscor'] = df['relscore'].apply(lambda x: 1 if x <= 0 else (2 if x < 1.99 else (3 if x < 5.0 else (4 if x < 12.0 else 5))))\n",
    "\n",
    "#recall converted to a 5 point scale delayed recall\n",
    "df['ndelay'] = df['recall'].apply(lambda x: 1 if x <= 1 else (2 if x <= 3 else (3 if x == 4 else (4 if x <= 6 else 5))))\n",
    "\n",
    "#then we take this new 5 point scale and adjust it to give it less weight for anything less than 3\n",
    "df['brelscor'] = df['nrelscor'].apply(lambda x: {1: 0, 2: 1.908, 3: 2.311, 4: 4.171, 5: 5.680}.get(x, x))\n",
    "\n",
    "#then we adjust the cogscore to give it more weight if one but less if greater than 1\n",
    "df['bcogscor'] = df['ncogscor'].apply(lambda x: {1: 2.801, 2: 1.377, 3: 0.866, 4: -0.231, 5: 0}.get(x, x))\n",
    "\n",
    "#adjust the delay to give it the strongest weight for anything less than 3\n",
    "df['bdelay'] = df['ndelay'].apply(lambda x: {1: 3.822, 2: 3.349, 3: 2.575, 4: 2.176, 5: 0}.get(x, x))\n",
    "\n",
    "#here we're turning this gmsdiag into a 5-point scale (find out where this comes from) less eight all around\n",
    "df['bgmsdiag'] = df['gmsdiag'].apply(lambda x: {1: 1.566, 2: 1.545, 3: -0.635, 4: -0.674, 5: 0.34, 6: 0}.get(x, x))"
   ]
  },
  {
   "cell_type": "markdown",
   "id": "1e91c3fc",
   "metadata": {},
   "source": [
    "below, we simulate the log odds regression by adding together all the different components"
   ]
  },
  {
   "cell_type": "code",
   "execution_count": 12,
   "id": "969e4ec2",
   "metadata": {},
   "outputs": [],
   "source": [
    "# Compute logodds\n",
    "df['logodds'] = -9.53 + df['brelscor'] + df['bcogscor'] + df['bdelay'] + df['bgmsdiag']\n",
    "\n",
    "# Compute odds\n",
    "df['odds'] = np.exp(df['logodds'])\n",
    "\n",
    "# Compute probability\n",
    "df['prob'] = df['odds'] / (1 + df['odds'])\n",
    "\n",
    "# Recode prob into dem1066\n",
    "df['dem1066'] = df['prob'].apply(lambda x: 0 if x <= 0.25591 else 1)\n"
   ]
  }
 ],
 "metadata": {
  "kernelspec": {
   "display_name": "Python 3 (ipykernel)",
   "language": "python",
   "name": "python3"
  },
  "language_info": {
   "codemirror_mode": {
    "name": "ipython",
    "version": 3
   },
   "file_extension": ".py",
   "mimetype": "text/x-python",
   "name": "python",
   "nbconvert_exporter": "python",
   "pygments_lexer": "ipython3",
   "version": "3.9.7"
  }
 },
 "nbformat": 4,
 "nbformat_minor": 5
}
