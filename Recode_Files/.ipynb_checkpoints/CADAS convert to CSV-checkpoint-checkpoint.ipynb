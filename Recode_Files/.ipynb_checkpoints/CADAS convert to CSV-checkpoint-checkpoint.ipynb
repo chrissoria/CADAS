{
 "cells": [
  {
   "cell_type": "code",
   "execution_count": 1,
   "id": "bcc9c25a",
   "metadata": {},
   "outputs": [],
   "source": [
    "import re\n",
    "import os\n",
    "import pandas as pd\n",
    "from PyPDF2 import PdfReader"
   ]
  },
  {
   "cell_type": "code",
   "execution_count": 2,
   "id": "ed958c9f",
   "metadata": {},
   "outputs": [],
   "source": [
    "os.chdir('/Users/chrissoria/Documents/Research/Read_PDF')"
   ]
  },
  {
   "cell_type": "code",
   "execution_count": 3,
   "id": "4fa4e7d3",
   "metadata": {
    "scrolled": false
   },
   "outputs": [
    {
     "name": "stdout",
     "output_type": "stream",
     "text": [
      "start\n",
      "Tipo de OrdenNúmero ReqDra. Patricia González -Exequatur:5709\n",
      "00101A02816\n",
      "*Ext = Muestra tomada fuera de laboratorio   *Lab = Muestra tomada en laboratorio(1051044971)17 Dic 1939 F 83 AñosINFORME DE RESULTADOSFecha NacimientoEdadSexoMédico que RefiereRuta / Origen / Destino / ClienteFecha RequisiciónPáginaID Resultado\n",
      "Prueba UnidadesResultado      GráficaRango de ReferenciaAbelardo Rodriguez Urdaneta\n",
      "#102, GascueDirector:\n",
      "Registro:TEL:(809) 682-5414FAX:(809) 686-6368\n",
      "REF 11/08/2023 3:48PM Impreso:\n",
      " L00109797W040PROYECTO CADAS\n",
      "002883-UNIV NAC P HEN. UNPHU PROYECCLUSTER 09, 101-1017789399 Urgente\n",
      "10 Ago 2023 11:19AM de21Cliente:    2883HEMOGRAMA**Glóbulos Blancos............K/uL........    5.66  [*  ]      3.80    10.80**Glóbulos Rojos..............M/uL........    4.19  [*  ]      3.93     5.22**Hemoglobina.................g/dL........   12.20  [*  ]     11.20    15.70**Hematócrito.................%...........   35.50  [*  ]     34.10    44.90VCM.........................fL..........   84.73  [*  ]     81.00    99.00HCM.........................pg..........   29.12  [ * ]     27.00    31.00CHCM........................g/dL........   34.37  [ * ]     31.50    36.50RDW.........................%...........   14.20  [  *]     11.60    14.80**Plaquetas...................K/uL........  212.00  [*  ]    150.00   450.00VPM.........................fL..........   10.30  [*  ]      0.90    99.00PDW.........................GSD.........   43.80  [ * ]      0.90    99.00Diferencial:Neutrofilos.................K/uL........    2.77  [*  ]      1.50     6.90Neutrofilos %...............%...........   49.00  [*  ]     40.00    70.00Linfocitos..................K/uL........    2.10  [ * ]      0.50     3.40Linfocitos %................%...........   37.10  [ * ]     20.50    50.00Monocitos...................K/uL........    0.46  [ * ]      0.00     0.90Monocitos %.................%...........    8.10  [*  ]      5.50    13.50Eosinófilos.................K/uL........    0.29  [*  ]      0.00     0.90Eosinofilos %...............%...........    5.10  [ * ]      0.00     9.00Basófilos...................K/uL........    0.04  [*  ]      0.00     0.20Basófilos %.................%...........    0.70  [ * ]      0.00     2.00Comentario:Muestra: Sangre completa colectada con EDTAMetodologías:Citometría de flujo(Impedancia eléctrica) para Glóbulos Rojos y PlaquetasCitometría de flujo(Fluorescencia) para Glóbulos BlancosFotometría (Laurilsulfato sódico) para Hemoglobina.Hematócrito calculado a través de detección por amplitud de pulso.Laboratorio Clínico acreditado por ema, a. c. con acreditación No. CL-166**Pruebas acreditadas en la Sucursal Gazcue Laboratorio PrincipalVer alcance en www.ema.org.mxValidado por: Lic. B Sanchez Exequatur 1506 10/08/2023  2:20PMID Muestra: 049425527  Tomada: 10/08/2023  8:38AM *Lab\n",
      "Tipo de OrdenNúmero ReqDra. Patricia González -Exequatur:5709\n",
      "00101A02816\n",
      "*Ext = Muestra tomada fuera de laboratorio   *Lab = Muestra tomada en laboratorio(1051044971)17 Dic 1939 F 83 AñosINFORME DE RESULTADOSFecha NacimientoEdadSexoMédico que RefiereRuta / Origen / Destino / ClienteFecha RequisiciónPáginaID Resultado\n",
      "Prueba UnidadesResultado      GráficaRango de ReferenciaAbelardo Rodriguez Urdaneta\n",
      "#102, GascueDirector:\n",
      "Registro:TEL:(809) 682-5414FAX:(809) 686-6368\n",
      "REF 11/08/2023 3:48PM Impreso:\n",
      " L00109797W040PROYECTO CADAS\n",
      "002883-UNIV NAC P HEN. UNPHU PROYECCLUSTER 09, 101-1017789399 Urgente\n",
      "10 Ago 2023 11:19AM de22Cliente:    2883QUIMICA CLINICAHbA1c.......................%...........     5.9  [  *]       4.0      6.0Criterio para diagnóstico de Diabetes Mellitus según ADA:HbA1c% mayor o igual a 6.5%Muestra: Sangre completa       Método:HPLC·Validado por: Lic. J De La Cruz Exequatur 5512 10/08/2023  2:48PMID Muestra: 049425528  Tomada: 10/08/2023  8:38AM *Lab\n"
     ]
    }
   ],
   "source": [
    "reader = PdfReader(\"blood_results.pdf\")\n",
    "finaltext = \"start\"\n",
    "for i in range(len(reader.pages)):\n",
    "    page = reader.pages[i]\n",
    "    finaltext = finaltext + \"\\n\" + page.extract_text()\n",
    "print(finaltext)"
   ]
  },
  {
   "cell_type": "code",
   "execution_count": 4,
   "id": "d3c8b576",
   "metadata": {},
   "outputs": [
    {
     "name": "stdout",
     "output_type": "stream",
     "text": [
      "start\n",
      "Tipo de OrdenNúmero ReqDra. Patricia González -Exequatur:5709\n",
      "00101A02816\n",
      "*Ext = Muestra tomada fuera de laboratorio   *Lab = Muestra tomada en laboratorio(1051044971)17 Dic 1939 F 83 AñosINFORME DE RESULTADOSFecha NacimientoEdadSexoMédico que RefiereRuta / Origen / Destino / ClienteFecha RequisiciónPáginaID Resultado\n",
      "Prueba UnidadesResultado      GráficaRango de ReferenciaAbelardo Rodriguez Urdaneta\n",
      "#102, GascueDirector:\n",
      "Registro:TEL:(809) 682-5414FAX:(809) 686-6368\n",
      "REF 11/08/2023 3:48PM Impreso:\n",
      " L00109797W040PROYECTO CADAS\n",
      "002883-UNIV NAC P HEN. UNPHU PROYECCLUSTER 09, 101-1017789399 Urgente\n",
      "10 Ago 2023 11:19AM de21Cliente:    2883HEMOGRAMA**Glóbulos Blancos............K/uL.....zyxw   5.66  [*  ]      3.80    10.80**Glóbulos Rojos..............M/uL.....zyxw   4.19  [*  ]      3.93     5.22**Hemoglobina.................g/dL.....zyxw  12.20  [*  ]     11.20    15.70**Hematócrito.................%........zyxw  35.50  [*  ]     34.10    44.90VCM.........................fL.......zyxw  84.73  [*  ]     81.00    99.00HCM.........................pg.......zyxw  29.12  [ * ]     27.00    31.00CHCM........................g/dL.....zyxw  34.37  [ * ]     31.50    36.50RDW.........................%........zyxw  14.20  [  *]     11.60    14.80**Plaquetas...................K/uL.....zyxw 212.00  [*  ]    150.00   450.00VPM.........................fL.......zyxw  10.30  [*  ]      0.90    99.00PDW.........................GSD......zyxw  43.80  [ * ]      0.90    99.00Diferencial:Neutrofilos.................K/uL.....zyxw   2.77  [*  ]      1.50     6.90Neutrofilos %...............%........zyxw  49.00  [*  ]     40.00    70.00Linfocitos..................K/uL.....zyxw   2.10  [ * ]      0.50     3.40Linfocitos %................%........zyxw  37.10  [ * ]     20.50    50.00Monocitos...................K/uL.....zyxw   0.46  [ * ]      0.00     0.90Monocitos %.................%........zyxw   8.10  [*  ]      5.50    13.50Eosinófilos.................K/uL.....zyxw   0.29  [*  ]      0.00     0.90Eosinofilos %...............%........zyxw   5.10  [ * ]      0.00     9.00Basófilos...................K/uL.....zyxw   0.04  [*  ]      0.00     0.20Basófilos %.................%........zyxw   0.70  [ * ]      0.00     2.00Comentario:Muestra: Sangre completa colectada con EDTAMetodologías:Citometría de flujo(Impedancia eléctrica) para Glóbulos Rojos y PlaquetasCitometría de flujo(Fluorescencia) para Glóbulos BlancosFotometría (Laurilsulfato sódico) para Hemoglobina.Hematócrito calculado a través de detección por amplitud de pulso.Laboratorio Clínico acreditado por ema, a. c. con acreditación No. CL-166**Pruebas acreditadas en la Sucursal Gazcue Laboratorio PrincipalVer alcance en www.ema.org.mxValidado por: Lic. B Sanchez Exequatur 1506 10/08/2023  2:20PMID Muestra: 049425527  Tomada: 10/08/2023  8:38AM *Lab\n",
      "Tipo de OrdenNúmero ReqDra. Patricia González -Exequatur:5709\n",
      "00101A02816\n",
      "*Ext = Muestra tomada fuera de laboratorio   *Lab = Muestra tomada en laboratorio(1051044971)17 Dic 1939 F 83 AñosINFORME DE RESULTADOSFecha NacimientoEdadSexoMédico que RefiereRuta / Origen / Destino / ClienteFecha RequisiciónPáginaID Resultado\n",
      "Prueba UnidadesResultado      GráficaRango de ReferenciaAbelardo Rodriguez Urdaneta\n",
      "#102, GascueDirector:\n",
      "Registro:TEL:(809) 682-5414FAX:(809) 686-6368\n",
      "REF 11/08/2023 3:48PM Impreso:\n",
      " L00109797W040PROYECTO CADAS\n",
      "002883-UNIV NAC P HEN. UNPHU PROYECCLUSTER 09, 101-1017789399 Urgente\n",
      "10 Ago 2023 11:19AM de22Cliente:    2883QUIMICA CLINICAHbA1c.......................%........zyxw    5.9  [  *]       4.0      6.0Criterio para diagnóstico de Diabetes Mellitus según ADA:HbA1c% mayor o igual a 6.5%Muestra: Sangre completa       Método:HPLC·Validado por: Lic. J De La Cruz Exequatur 5512 10/08/2023  2:48PMID Muestra: 049425528  Tomada: 10/08/2023  8:38AM *Lab\n"
     ]
    }
   ],
   "source": [
    "finaltext = finaltext.replace(\"... \", \"zyxw\")\n",
    "print(finaltext)"
   ]
  },
  {
   "cell_type": "code",
   "execution_count": 5,
   "id": "242ee91b",
   "metadata": {},
   "outputs": [
    {
     "name": "stdout",
     "output_type": "stream",
     "text": [
      "CLUSTER 09, 101-1\n",
      "CLUSTER 09, 101-1,   5.66  ,   4.19  ,  12.20  ,  35.50  ,  84.73  ,  29.12  ,  34.37  ,  14.20  , 212.00  ,  10.30  ,  43.80  ,   2.77  ,  49.00  ,   2.10  ,  37.10  ,   0.46  ,   8.10  ,   0.29  ,   5.10  ,   0.04  ,   0.70  ,    5.9  \n"
     ]
    }
   ],
   "source": [
    "ID_match = re.search(r'(CLUSTER.{0,10})', finaltext)\n",
    "if ID_match:\n",
    "    ParticID = ID_match.group(1)\n",
    "    print(ParticID)\n",
    "\n",
    "alldata = re.findall(r'(zyxw.{0,9})', finaltext)\n",
    "alldata = \",\".join(str(element) for element in alldata)\n",
    "alldata = ParticID + \",\" + alldata.replace(\"zyxw\", \"\")\n",
    "print(alldata)"
   ]
  },
  {
   "cell_type": "code",
   "execution_count": null,
   "id": "4a950fd3",
   "metadata": {},
   "outputs": [],
   "source": [
    "with open(\"test.csv\", 'w') as out:\n",
    "    out.write(alldata)"
   ]
  },
  {
   "cell_type": "code",
   "execution_count": 15,
   "id": "449f89e2",
   "metadata": {},
   "outputs": [
    {
     "data": {
      "text/html": [
       "<div>\n",
       "<style scoped>\n",
       "    .dataframe tbody tr th:only-of-type {\n",
       "        vertical-align: middle;\n",
       "    }\n",
       "\n",
       "    .dataframe tbody tr th {\n",
       "        vertical-align: top;\n",
       "    }\n",
       "\n",
       "    .dataframe thead th {\n",
       "        text-align: right;\n",
       "    }\n",
       "</style>\n",
       "<table border=\"1\" class=\"dataframe\">\n",
       "  <thead>\n",
       "    <tr style=\"text-align: right;\">\n",
       "      <th></th>\n",
       "      <th>Column1</th>\n",
       "      <th>Column2</th>\n",
       "      <th>Column3</th>\n",
       "      <th>Column4</th>\n",
       "      <th>Column5</th>\n",
       "      <th>Column6</th>\n",
       "      <th>Column7</th>\n",
       "      <th>Column8</th>\n",
       "      <th>Column9</th>\n",
       "      <th>Column10</th>\n",
       "      <th>...</th>\n",
       "      <th>Column15</th>\n",
       "      <th>Column16</th>\n",
       "      <th>Column17</th>\n",
       "      <th>Column18</th>\n",
       "      <th>Column19</th>\n",
       "      <th>Column20</th>\n",
       "      <th>Column21</th>\n",
       "      <th>Column22</th>\n",
       "      <th>Column23</th>\n",
       "      <th>Column24</th>\n",
       "    </tr>\n",
       "  </thead>\n",
       "  <tbody>\n",
       "    <tr>\n",
       "      <th>0</th>\n",
       "      <td>CLUSTER 09</td>\n",
       "      <td>101-1</td>\n",
       "      <td>5.66</td>\n",
       "      <td>4.19</td>\n",
       "      <td>12.20</td>\n",
       "      <td>35.50</td>\n",
       "      <td>84.73</td>\n",
       "      <td>29.12</td>\n",
       "      <td>34.37</td>\n",
       "      <td>14.20</td>\n",
       "      <td>...</td>\n",
       "      <td>49.00</td>\n",
       "      <td>2.10</td>\n",
       "      <td>37.10</td>\n",
       "      <td>0.46</td>\n",
       "      <td>8.10</td>\n",
       "      <td>0.29</td>\n",
       "      <td>5.10</td>\n",
       "      <td>0.04</td>\n",
       "      <td>0.70</td>\n",
       "      <td>5.9</td>\n",
       "    </tr>\n",
       "  </tbody>\n",
       "</table>\n",
       "<p>1 rows × 24 columns</p>\n",
       "</div>"
      ],
      "text/plain": [
       "      Column1 Column2    Column3    Column4    Column5    Column6    Column7  \\\n",
       "0  CLUSTER 09   101-1     5.66       4.19      12.20      35.50      84.73     \n",
       "\n",
       "     Column8    Column9   Column10  ...   Column15   Column16   Column17  \\\n",
       "0    29.12      34.37      14.20    ...    49.00       2.10      37.10     \n",
       "\n",
       "    Column18   Column19   Column20   Column21   Column22   Column23   Column24  \n",
       "0     0.46       8.10       0.29       5.10       0.04       0.70        5.9    \n",
       "\n",
       "[1 rows x 24 columns]"
      ]
     },
     "execution_count": 15,
     "metadata": {},
     "output_type": "execute_result"
    }
   ],
   "source": [
    "df = pd.DataFrame([alldata])\n",
    "\n",
    "split_data = df.iloc[:, 0].str.split(',', expand=True)\n",
    "\n",
    "split_data.columns = ['Column' + str(i) for i in range(1, split_data.shape[1] + 1)]\n",
    "\n",
    "df = split_data\n",
    "\n",
    "df.head()"
   ]
  },
  {
   "cell_type": "code",
   "execution_count": null,
   "id": "9ada9539",
   "metadata": {},
   "outputs": [],
   "source": [
    "df = pd.read_csv('test.csv')\n",
    "df.head()"
   ]
  },
  {
   "cell_type": "code",
   "execution_count": null,
   "id": "2bae34ff",
   "metadata": {},
   "outputs": [],
   "source": []
  },
  {
   "cell_type": "code",
   "execution_count": null,
   "id": "1ea9d5de",
   "metadata": {},
   "outputs": [],
   "source": []
  },
  {
   "cell_type": "code",
   "execution_count": null,
   "id": "f6cc5222",
   "metadata": {},
   "outputs": [],
   "source": []
  }
 ],
 "metadata": {
  "kernelspec": {
   "display_name": "Python 3 (ipykernel)",
   "language": "python",
   "name": "python3"
  },
  "language_info": {
   "codemirror_mode": {
    "name": "ipython",
    "version": 3
   },
   "file_extension": ".py",
   "mimetype": "text/x-python",
   "name": "python",
   "nbconvert_exporter": "python",
   "pygments_lexer": "ipython3",
   "version": "3.9.7"
  }
 },
 "nbformat": 4,
 "nbformat_minor": 5
}
