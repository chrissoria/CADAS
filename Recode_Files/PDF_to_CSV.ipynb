{
 "cells": [
  {
   "cell_type": "code",
   "execution_count": 8,
   "id": "261298e1",
   "metadata": {
    "scrolled": true
   },
   "outputs": [
    {
     "name": "stdout",
     "output_type": "stream",
     "text": [
      "Processing /Users/chrissoria/Documents/Research/Read_PDF/Cluster_06_Fecha_2_8_23/PDFs/Ip6tgTjdUPuR89nk9HRpJC1VbCc9Vw170743.pdf\n",
      "Processing /Users/chrissoria/Documents/Research/Read_PDF/Cluster_06_Fecha_2_8_23/PDFs/Ip6tgTjdUPuR89nk9HRpJC1VbCc9Vw170541.pdf\n",
      "Processing /Users/chrissoria/Documents/Research/Read_PDF/Cluster_06_Fecha_2_8_23/PDFs/Ip6tgTjdUPuR89nk9HRpJC1VbCc9Vw170755.pdf\n",
      "Processing /Users/chrissoria/Documents/Research/Read_PDF/Cluster_06_Fecha_2_8_23/PDFs/Ip6tgTjdUPuR89nk9HRpJC1VbCc9Vw170751.pdf\n",
      "Processing /Users/chrissoria/Documents/Research/Read_PDF/Cluster_06_Fecha_2_8_23/PDFs/Ip6tgTjdUPuR89nk9HRpJC1VbCc9Vw170800.pdf\n",
      "Processing /Users/chrissoria/Documents/Research/Read_PDF/Cluster_06_Fecha_2_8_23/PDFs/Ip6tgTjdUPuR89nk9HRpJC1VbCc9Vw170545.pdf\n",
      "Processing /Users/chrissoria/Documents/Research/Read_PDF/Cluster_06_Fecha_2_8_23/PDFs/Ip6tgTjdUPuR89nk9HRpJC1VbCc9Vw170747.pdf\n",
      "Processing /Users/chrissoria/Documents/Research/Read_PDF/Cluster_06_Fecha_2_8_23/PDFs/Ip6tgTjdUPuR89nk9HRpJC1VbCc9Vw170708.pdf\n",
      "Processing /Users/chrissoria/Documents/Research/Read_PDF/Cluster_06_Fecha_2_8_23/PDFs/Ip6tgTjdUPuR89nk9HRpJC1VbCc9Vw170654.pdf\n",
      "Processing /Users/chrissoria/Documents/Research/Read_PDF/Cluster_06_Fecha_2_8_23/PDFs/Ip6tgTjdUPuR89nk9HRpJC1VbCc9Vw170721.pdf\n",
      "Processing /Users/chrissoria/Documents/Research/Read_PDF/Cluster_06_Fecha_2_8_23/PDFs/Ip6tgTjdUPuR89nk9HRpJC1VbCc9Vw170455.pdf\n",
      "Processing /Users/chrissoria/Documents/Research/Read_PDF/Cluster_06_Fecha_2_8_23/PDFs/Ip6tgTjdUPuR89nk9HRpJC1VbCc9Vw170534.pdf\n",
      "Processing /Users/chrissoria/Documents/Research/Read_PDF/Cluster_06_Fecha_2_8_23/PDFs/Ip6tgTjdUPuR89nk9HRpJC1VbCc9Vw170646.pdf\n",
      "Processing /Users/chrissoria/Documents/Research/Read_PDF/Cluster_06_Fecha_2_8_23/PDFs/Ip6tgTjdUPuR89nk9HRpJC1VbCc9Vw170525.pdf\n",
      "Processing /Users/chrissoria/Documents/Research/Read_PDF/Cluster_06_Fecha_2_8_23/PDFs/Ip6tgTjdUPuR89nk9HRpJC1VbCc9Vw170727.pdf\n",
      "Processing /Users/chrissoria/Documents/Research/Read_PDF/Cluster_06_Fecha_2_8_23/PDFs/Ip6tgTjdUPuR89nk9HRpJC1VbCc9Vw170733.pdf\n",
      "Processing /Users/chrissoria/Documents/Research/Read_PDF/Cluster_06_Fecha_2_8_23/PDFs/Ip6tgTjdUPuR89nk9HRpJC1VbCc9Vw170650.pdf\n",
      "Processing /Users/chrissoria/Documents/Research/Read_PDF/Cluster_06_Fecha_2_8_23/PDFs/Ip6tgTjdUPuR89nk9HRpJC1VbCc9Vw170517.pdf\n",
      "Processing /Users/chrissoria/Documents/Research/Read_PDF/Cluster_06_Fecha_2_8_23/PDFs/Ip6tgTjdUPuR89nk9HRpJC1VbCc9Vw170500.pdf\n",
      "Processing /Users/chrissoria/Documents/Research/Read_PDF/Cluster_06_Fecha_2_8_23/PDFs/Ip6tgTjdUPuR89nk9HRpJC1VbCc9Vw170529.pdf\n",
      "Processing /Users/chrissoria/Documents/Research/Read_PDF/Cluster_06_Fecha_2_8_23/PDFs/Ip6tgTjdUPuR89nk9HRpJC1VbCc9Vw170717.pdf\n",
      "Processing /Users/chrissoria/Documents/Research/Read_PDF/Cluster_06_Fecha_2_8_23/PDFs/Ip6tgTjdUPuR89nk9HRpJC1VbCc9Vw170713.pdf\n",
      "Processing /Users/chrissoria/Documents/Research/Read_PDF/Cluster_06_Fecha_2_8_23/PDFs/Ip6tgTjdUPuR89nk9HRpJC1VbCc9Vw170538.pdf\n",
      "Processing /Users/chrissoria/Documents/Research/Read_PDF/Cluster_06_Fecha_2_8_23/PDFs/Ip6tgTjdUPuR89nk9HRpJC1VbCc9Vw170704.pdf\n",
      "Processing /Users/chrissoria/Documents/Research/Read_PDF/Cluster_06_Fecha_2_8_23/PDFs/Ip6tgTjdUPuR89nk9HRpJC1VbCc9Vw170738.pdf\n",
      "Processing /Users/chrissoria/Documents/Research/Read_PDF/Cluster_06_Fecha_2_8_23/PDFs/Ip6tgTjdUPuR89nk9HRpJC1VbCc9Vw170659.pdf\n"
     ]
    }
   ],
   "source": [
    "import re\n",
    "from PyPDF2 import PdfReader\n",
    "import os,glob\n",
    "import pandas as pd\n",
    "\n",
    "folder_path = r\"/Users/chrissoria/Documents/Research/Read_PDF/Cluster_06_Fecha_2_8_23/PDFs\" #goes through this whole folder\n",
    "for filename in glob.glob(os.path.join(folder_path, '*.pdf')):\n",
    "    print(f\"Processing {filename}\")\n",
    "    with open(filename, 'r') as f:\n",
    "        reader = PdfReader(filename)\n",
    "        finaltext = \"start\"\n",
    "        for i in range(len(reader.pages)):\n",
    "            page = reader.pages[i]\n",
    "            finaltext = finaltext + \"\\n\" + page.extract_text()\n",
    "        finaltext = finaltext.replace(\"... \", \"zyxw\")\n",
    "        ID_match = re.search(r'(CLUSTER.{0,10})', finaltext)\n",
    "        if ID_match:\n",
    "            ParticID = ID_match.group(1)\n",
    "            ParticID = ParticID.replace(\"CLUSTER\", \"\")\n",
    "            ParticID = ParticID.replace(\"-\", \", \")\n",
    "        else:\n",
    "            print(f\"No ID match for {filename}\")\n",
    "        age_match = re.search(r'(.{0,5}Años)', finaltext)\n",
    "        age_sex = age_match.group(1)\n",
    "        age_sex = age_sex.replace(\"Años\", \"\")\n",
    "        age_sex = age_sex[:2] + \", \" + age_sex[2:]\n",
    "        alldata = re.findall(r'(zyxw.{0,8})', finaltext)\n",
    "        alldata = \",\".join(str(element) for element in alldata)\n",
    "        alldata = \"\\n\" + ParticID + \",\" + age_sex + \",\" + alldata.replace(\"zyxw\", \"\")\n",
    "        with open(\"/Users/chrissoria/Documents/Research/Read_PDF/PythonCSVtest.csv\", 'a') as out:\n",
    "            out.write(alldata)\n",
    "            \n",
    "df.columns = [\n",
    "    'cluster', 'houseid', 'personid', 'sex', 'age',\n",
    "    'Glóbulos Blancos', 'Glóbulos Rojos', 'Hemoglobina', 'Hematócrito', 'VCM',\n",
    "    'HCM', 'CHCM', 'RDW', 'Plaquetas', 'VPM', 'PDW', 'Neutrofilos',\n",
    "    'Neutrofilos %', 'Linfocitos', 'Linfocitos %', 'Monocitos', 'Monocitos %',\n",
    "    'Eosinófilos', 'Eosinofilos %', 'Basófilos', 'Basófilos %', 'HbA1c'\n",
    "]\n",
    "\n",
    "df = df.sort_values(by='houseid')\n",
    "\n",
    "df.to_csv('/Users/chrissoria/Documents/Research/Read_PDF/PythonCSVtest.csv', index = False)"
   ]
  }
 ],
 "metadata": {
  "kernelspec": {
   "display_name": "Python 3 (ipykernel)",
   "language": "python",
   "name": "python3"
  },
  "language_info": {
   "codemirror_mode": {
    "name": "ipython",
    "version": 3
   },
   "file_extension": ".py",
   "mimetype": "text/x-python",
   "name": "python",
   "nbconvert_exporter": "python",
   "pygments_lexer": "ipython3",
   "version": "3.9.7"
  }
 },
 "nbformat": 4,
 "nbformat_minor": 5
}
