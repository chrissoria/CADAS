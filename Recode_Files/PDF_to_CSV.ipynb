{
 "cells": [
  {
   "cell_type": "code",
   "execution_count": 1,
   "id": "280ce8b5",
   "metadata": {},
   "outputs": [],
   "source": [
    "import re\n",
    "from PyPDF2 import PdfReader\n",
    "import os,glob"
   ]
  },
  {
   "cell_type": "code",
   "execution_count": 5,
   "id": "4b3ce379",
   "metadata": {},
   "outputs": [],
   "source": [
    "os.chdir('/Users/chrissoria/Documents/Research/Read_PDF')"
   ]
  },
  {
   "cell_type": "code",
   "execution_count": null,
   "id": "b741b019",
   "metadata": {},
   "outputs": [],
   "source": [
    "folder_path = r\"C:\\Users\\Ty\\Downloads\\Cluster 06      Fecha 2-8-23\" #goes through this whole folder\n",
    "for filename in glob.glob(os.path.join(folder_path, '*.pdf')):\n",
    "    with open(filename, 'r') as f:\n",
    "        reader = PdfReader(filename)\n",
    "        finaltext = \"start\"\n",
    "        for i in range(len(reader.pages)):\n",
    "            page = reader.pages[i]\n",
    "            finaltext = finaltext + \"\\n\" + page.extract_text()\n",
    "        finaltext = finaltext.replace(\"... \", \"zyxw\")\n",
    "        ID_match = re.search(r'(CLUSTER.{0,10})', finaltext)\n",
    "        if ID_match:\n",
    "            ParticID = ID_match.group(1)\n",
    "            ParticID = ParticID.replace(\"CLUSTER\", \"\")\n",
    "            ParticID = ParticID.replace(\"-\", \", \")\n",
    "        age_match = re.search(r'(.{0,5}Años)', finaltext)\n",
    "        age_sex = age_match.group(1)\n",
    "        age_sex = age_sex.replace(\"Años\", \"\")\n",
    "        age_sex = age_sex[:2] + \", \" + age_sex[2:]\n",
    "        alldata = re.findall(r'(zyxw.{0,8})', finaltext)\n",
    "        alldata = \",\".join(str(element) for element in alldata)\n",
    "        alldata = \"\\n\" + ParticID + \",\" + age_sex + \",\" + alldata.replace(\"zyxw\", \"\")\n",
    "        with open(\"C:\\\\Users\\\\Ty\\\\Desktop\\\\PythonCSVtest.csv\", 'a') as out:\n",
    "            out.write(alldata)"
   ]
  },
  {
   "cell_type": "code",
   "execution_count": null,
   "id": "0a5d7a63",
   "metadata": {},
   "outputs": [],
   "source": []
  }
 ],
 "metadata": {
  "kernelspec": {
   "display_name": "Python 3 (ipykernel)",
   "language": "python",
   "name": "python3"
  },
  "language_info": {
   "codemirror_mode": {
    "name": "ipython",
    "version": 3
   },
   "file_extension": ".py",
   "mimetype": "text/x-python",
   "name": "python",
   "nbconvert_exporter": "python",
   "pygments_lexer": "ipython3",
   "version": "3.9.7"
  }
 },
 "nbformat": 4,
 "nbformat_minor": 5
}
